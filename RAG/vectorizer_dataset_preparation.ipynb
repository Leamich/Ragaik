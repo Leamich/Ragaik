{
 "cells": [
  {
   "cell_type": "code",
   "execution_count": null,
   "metadata": {
    "vscode": {
     "languageId": "plaintext"
    }
   },
   "outputs": [],
   "source": [
    "!pip install datasets"
   ]
  },
  {
   "cell_type": "code",
   "execution_count": null,
   "metadata": {
    "vscode": {
     "languageId": "plaintext"
    }
   },
   "outputs": [],
   "source": [
    "from datasets import load_dataset\n",
    "\n",
    "ds = load_dataset(\"math-ai/AutoMathText\", \"web-0.50-to-1.00\", split=\"train[:50%]\")\n",
    "ds = ds.remove_columns(['url', 'date', 'meta'])"
   ]
  },
  {
   "cell_type": "code",
   "execution_count": null,
   "metadata": {
    "vscode": {
     "languageId": "plaintext"
    }
   },
   "outputs": [],
   "source": [
    "import re\n",
    "import os\n",
    "from datasets import Dataset\n",
    "\n",
    "class  LaTeX_placeholder_swap:\n",
    "    \"\"\"\n",
    "    Функтор для замены LaTeX в строчке на placeholder'ы и обратно.\n",
    "    \"\"\"\n",
    "    _INLINE_MATH = re.compile(r'\\$(.+?)\\$')\n",
    "    _DISPLAY_MATH = re.compile(r'\\$\\$(.+?)\\$\\$')\n",
    "    _PLACEHOLDER_BASE = \"___LATEX_PLACEHOLDER___\"\n",
    "\n",
    "    @classmethod\n",
    "    def _reset(cls):\n",
    "        cls._counter = 0\n",
    "        cls._exprs = []\n",
    "\n",
    "    @classmethod\n",
    "    def _replace_with_placeholder(cls, match) -> str:\n",
    "        placeholder = f\"{cls._PLACEHOLDER_BASE}{cls._counter}\"\n",
    "        cls._exprs.append(match.group(0))\n",
    "        cls._counter += 1\n",
    "        return placeholder\n",
    "\n",
    "    @classmethod\n",
    "    def latex_to_placeholder(cls, text: str) -> str:\n",
    "        cls._reset()\n",
    "        text = cls._DISPLAY_MATH.sub(cls._replace_with_placeholder, text)\n",
    "        text = cls._INLINE_MATH.sub(cls._replace_with_placeholder, text)\n",
    "        return text\n",
    "\n",
    "    @classmethod\n",
    "    def placeholder_to_latex(cls, text: str) -> str:\n",
    "        for i, orig in enumerate(cls._exprs):\n",
    "            text = text.replace(f\"{cls._PLACEHOLDER_BASE}{i}\", orig)\n",
    "        return text\n",
    "\n",
    "\n",
    "    \n",
    "class LaTeXify:\n",
    "    \"\"\"\n",
    "    Функтор для замены математических выражений на их аналоги в LaTeX формате.\n",
    "    \"\"\"\n",
    "\n",
    "    FUNC_EXPR    = re.compile(r\"\\b(exp|sin|cos|tan|ln|log)(?:\\s+|\\()(?P<arg>[A-Za-z0-9]+)\\)?\", re.IGNORECASE)\n",
    "    GREEK        = re.compile(r\"\\b(alpha|beta|gamma|delta|epsilon|zeta|eta|theta|iota|kappa|lambda|mu|nu|xi|omicron|pi|rho|sigma|tau|upsilon|phi|chi|psi|omega)\\b\", re.IGNORECASE)\n",
    "    ABSOLUTE     = re.compile(r\"\\|\\s*([A-Za-z0-9_{}^\\\\]+)\\s*\\|\")\n",
    "    LIMIT        = re.compile(r\"lim_?\\{?([^}]+)\\}?\")\n",
    "    INTERVAL     = re.compile(r\"([\\[\\(])\\s*([\\-]?[0-9\\.A-Za-z_]+)\\s*,\\s*([\\-]?[0-9\\.A-Za-z_]+)\\s*([\\]\\)])\")\n",
    "    ARROW        = re.compile(r\"->|→\")\n",
    "    SUBSCRIPT    = re.compile(r\"\\b([A-Za-z])_([0-9]+)\\b\")\n",
    "    SUPERSCRIPT  = re.compile(r\"\\b([A-Za-z])\\^([0-9]+)\\b\")\n",
    "    SETS         = re.compile(r\"\\bR\\+?\\b\")\n",
    "    IMPLICIT_MUL = re.compile(r\"\\b(\\d+)([A-Za-z])\\b\")\n",
    "    EXPR         = re.compile(r\"\\b([A-Za-z]|[0-9]+)\\s*([/\\^*+\\-xX⋅])\\s*([A-Za-z]|[0-9]+)\\b\")\n",
    "\n",
    "    def __call__(self, ds: Dataset) -> Dataset:\n",
    "        return ds.map(\n",
    "            self._process_batch,\n",
    "            batched=True,\n",
    "            batch_size=2048,\n",
    "            num_proc=os.cpu_count()\n",
    "        )\n",
    "\n",
    "    @staticmethod\n",
    "    def _binop(m) -> str:\n",
    "                a, op, b = m.group(1), m.group(2), m.group(3)\n",
    "                if op == '/': return f\"$\\\\frac{{{a}}}{{{b}}}$\"\n",
    "                elif op == '^': return f\"${a}^{{{b}}}$\"\n",
    "                elif op in ('x','X', '⋅', '*'): return f\"${a} \\\\cdot {b}$\"\n",
    "                return f\"${a} {op} {b}$\"\n",
    "\n",
    "    def _process_batch(self, batch: dict) -> dict:\n",
    "        out = []\n",
    "        for text in batch['text']:\n",
    "            text =LaTeX_placeholder_swap.latex_to_placeholder(text)\n",
    "            text = self.FUNC_EXPR.sub(lambda m: f\"$\\\\{m.group(1).lower()}({m.group('arg')})$\", text)\n",
    "            text = self.GREEK.sub(lambda m: f\"$\\\\{m.group(1).lower()}$\", text)\n",
    "            text = self.ABSOLUTE.sub(lambda m: f\"${{\\lvert {m.group(1)} \\rvert}}$\", text)\n",
    "            text = self.LIMIT.sub(lambda m: f\"$\\\\lim_{{{m.group(1)}}}$\", text)\n",
    "            text = self.INTERVAL.sub(lambda m: f\"${m.group(1)}{m.group(2)}, {m.group(3)}{m.group(4)}$\", text)\n",
    "            text = self.ARROW.sub(lambda _: \"$\\\\to$\", text)\n",
    "            text = self.SETS.sub(lambda m: \"$R^+$\" if '+' in m.group(0) else \"$R$\", text)\n",
    "            \n",
    "            text = self.EXPR.sub(self._binop, text)\n",
    "\n",
    "            out.append(LaTeX_placeholder_swap.placeholder_to_latex(text))\n",
    "        return {'text': out}\n"
   ]
  },
  {
   "cell_type": "code",
   "execution_count": null,
   "metadata": {
    "vscode": {
     "languageId": "plaintext"
    }
   },
   "outputs": [],
   "source": [
    "class Translate:\n",
    "  \"\"\"\n",
    "  Функтор для перевода строк датасета с английского на русский.\n",
    "  \"\"\"\n",
    "\n",
    "  def __call__(self, ds: Dataset) -> None:\n",
    "    pass"
   ]
  },
  {
   "cell_type": "code",
   "execution_count": null,
   "metadata": {
    "vscode": {
     "languageId": "plaintext"
    }
   },
   "outputs": [],
   "source": [
    "\"\"\"\n",
    "Тут должно появиться применение всех функторов к ds. Возможно что-то еще. \n",
    "\"\"\""
   ]
  }
 ],
 "metadata": {
  "language_info": {
   "name": "python"
  }
 },
 "nbformat": 4,
 "nbformat_minor": 2
}
