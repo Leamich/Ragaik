{
  "nbformat": 4,
  "nbformat_minor": 0,
  "metadata": {
    "colab": {
      "provenance": [],
      "authorship_tag": "ABX9TyM68Q8ckv0ovmyon9VtTK5g",
      "include_colab_link": true
    },
    "kernelspec": {
      "name": "python3",
      "display_name": "Python 3"
    },
    "language_info": {
      "name": "python"
    },
    "widgets": {
      "application/vnd.jupyter.widget-state+json": {
        "48c33dd46b6a4b3fb5f64ae9e6de4594": {
          "model_module": "@jupyter-widgets/controls",
          "model_name": "HBoxModel",
          "model_module_version": "1.5.0",
          "state": {
            "_dom_classes": [],
            "_model_module": "@jupyter-widgets/controls",
            "_model_module_version": "1.5.0",
            "_model_name": "HBoxModel",
            "_view_count": null,
            "_view_module": "@jupyter-widgets/controls",
            "_view_module_version": "1.5.0",
            "_view_name": "HBoxView",
            "box_style": "",
            "children": [
              "IPY_MODEL_2d8a15c1fefa4a0188df866e2efc3f40",
              "IPY_MODEL_f3da1d6c78b04bc2bf64d2cb274f2823",
              "IPY_MODEL_c41a4ca1cfea490ea44cd5ad18a1c951"
            ],
            "layout": "IPY_MODEL_35b9925776224754a717170ba7e0411b"
          }
        },
        "2d8a15c1fefa4a0188df866e2efc3f40": {
          "model_module": "@jupyter-widgets/controls",
          "model_name": "HTMLModel",
          "model_module_version": "1.5.0",
          "state": {
            "_dom_classes": [],
            "_model_module": "@jupyter-widgets/controls",
            "_model_module_version": "1.5.0",
            "_model_name": "HTMLModel",
            "_view_count": null,
            "_view_module": "@jupyter-widgets/controls",
            "_view_module_version": "1.5.0",
            "_view_name": "HTMLView",
            "description": "",
            "description_tooltip": null,
            "layout": "IPY_MODEL_abac5bae1c0848c0a117dde26d28cc14",
            "placeholder": "​",
            "style": "IPY_MODEL_cdd1e4abd50b4a548b431ae975e2fbc5",
            "value": "100%"
          }
        },
        "f3da1d6c78b04bc2bf64d2cb274f2823": {
          "model_module": "@jupyter-widgets/controls",
          "model_name": "FloatProgressModel",
          "model_module_version": "1.5.0",
          "state": {
            "_dom_classes": [],
            "_model_module": "@jupyter-widgets/controls",
            "_model_module_version": "1.5.0",
            "_model_name": "FloatProgressModel",
            "_view_count": null,
            "_view_module": "@jupyter-widgets/controls",
            "_view_module_version": "1.5.0",
            "_view_name": "ProgressView",
            "bar_style": "success",
            "description": "",
            "description_tooltip": null,
            "layout": "IPY_MODEL_f8fac9141b5243c198b35593d4a08011",
            "max": 100,
            "min": 0,
            "orientation": "horizontal",
            "style": "IPY_MODEL_a5b6629d664e4310bedee86c9d3e2436",
            "value": 100
          }
        },
        "c41a4ca1cfea490ea44cd5ad18a1c951": {
          "model_module": "@jupyter-widgets/controls",
          "model_name": "HTMLModel",
          "model_module_version": "1.5.0",
          "state": {
            "_dom_classes": [],
            "_model_module": "@jupyter-widgets/controls",
            "_model_module_version": "1.5.0",
            "_model_name": "HTMLModel",
            "_view_count": null,
            "_view_module": "@jupyter-widgets/controls",
            "_view_module_version": "1.5.0",
            "_view_name": "HTMLView",
            "description": "",
            "description_tooltip": null,
            "layout": "IPY_MODEL_12eef787986147d791bf2130babc9fec",
            "placeholder": "​",
            "style": "IPY_MODEL_9f7a1c7d16e64a3cb0058857d07540d0",
            "value": " 100/100 [02:24&lt;00:00,  1.63s/it]"
          }
        },
        "35b9925776224754a717170ba7e0411b": {
          "model_module": "@jupyter-widgets/base",
          "model_name": "LayoutModel",
          "model_module_version": "1.2.0",
          "state": {
            "_model_module": "@jupyter-widgets/base",
            "_model_module_version": "1.2.0",
            "_model_name": "LayoutModel",
            "_view_count": null,
            "_view_module": "@jupyter-widgets/base",
            "_view_module_version": "1.2.0",
            "_view_name": "LayoutView",
            "align_content": null,
            "align_items": null,
            "align_self": null,
            "border": null,
            "bottom": null,
            "display": null,
            "flex": null,
            "flex_flow": null,
            "grid_area": null,
            "grid_auto_columns": null,
            "grid_auto_flow": null,
            "grid_auto_rows": null,
            "grid_column": null,
            "grid_gap": null,
            "grid_row": null,
            "grid_template_areas": null,
            "grid_template_columns": null,
            "grid_template_rows": null,
            "height": null,
            "justify_content": null,
            "justify_items": null,
            "left": null,
            "margin": null,
            "max_height": null,
            "max_width": null,
            "min_height": null,
            "min_width": null,
            "object_fit": null,
            "object_position": null,
            "order": null,
            "overflow": null,
            "overflow_x": null,
            "overflow_y": null,
            "padding": null,
            "right": null,
            "top": null,
            "visibility": null,
            "width": null
          }
        },
        "abac5bae1c0848c0a117dde26d28cc14": {
          "model_module": "@jupyter-widgets/base",
          "model_name": "LayoutModel",
          "model_module_version": "1.2.0",
          "state": {
            "_model_module": "@jupyter-widgets/base",
            "_model_module_version": "1.2.0",
            "_model_name": "LayoutModel",
            "_view_count": null,
            "_view_module": "@jupyter-widgets/base",
            "_view_module_version": "1.2.0",
            "_view_name": "LayoutView",
            "align_content": null,
            "align_items": null,
            "align_self": null,
            "border": null,
            "bottom": null,
            "display": null,
            "flex": null,
            "flex_flow": null,
            "grid_area": null,
            "grid_auto_columns": null,
            "grid_auto_flow": null,
            "grid_auto_rows": null,
            "grid_column": null,
            "grid_gap": null,
            "grid_row": null,
            "grid_template_areas": null,
            "grid_template_columns": null,
            "grid_template_rows": null,
            "height": null,
            "justify_content": null,
            "justify_items": null,
            "left": null,
            "margin": null,
            "max_height": null,
            "max_width": null,
            "min_height": null,
            "min_width": null,
            "object_fit": null,
            "object_position": null,
            "order": null,
            "overflow": null,
            "overflow_x": null,
            "overflow_y": null,
            "padding": null,
            "right": null,
            "top": null,
            "visibility": null,
            "width": null
          }
        },
        "cdd1e4abd50b4a548b431ae975e2fbc5": {
          "model_module": "@jupyter-widgets/controls",
          "model_name": "DescriptionStyleModel",
          "model_module_version": "1.5.0",
          "state": {
            "_model_module": "@jupyter-widgets/controls",
            "_model_module_version": "1.5.0",
            "_model_name": "DescriptionStyleModel",
            "_view_count": null,
            "_view_module": "@jupyter-widgets/base",
            "_view_module_version": "1.2.0",
            "_view_name": "StyleView",
            "description_width": ""
          }
        },
        "f8fac9141b5243c198b35593d4a08011": {
          "model_module": "@jupyter-widgets/base",
          "model_name": "LayoutModel",
          "model_module_version": "1.2.0",
          "state": {
            "_model_module": "@jupyter-widgets/base",
            "_model_module_version": "1.2.0",
            "_model_name": "LayoutModel",
            "_view_count": null,
            "_view_module": "@jupyter-widgets/base",
            "_view_module_version": "1.2.0",
            "_view_name": "LayoutView",
            "align_content": null,
            "align_items": null,
            "align_self": null,
            "border": null,
            "bottom": null,
            "display": null,
            "flex": null,
            "flex_flow": null,
            "grid_area": null,
            "grid_auto_columns": null,
            "grid_auto_flow": null,
            "grid_auto_rows": null,
            "grid_column": null,
            "grid_gap": null,
            "grid_row": null,
            "grid_template_areas": null,
            "grid_template_columns": null,
            "grid_template_rows": null,
            "height": null,
            "justify_content": null,
            "justify_items": null,
            "left": null,
            "margin": null,
            "max_height": null,
            "max_width": null,
            "min_height": null,
            "min_width": null,
            "object_fit": null,
            "object_position": null,
            "order": null,
            "overflow": null,
            "overflow_x": null,
            "overflow_y": null,
            "padding": null,
            "right": null,
            "top": null,
            "visibility": null,
            "width": null
          }
        },
        "a5b6629d664e4310bedee86c9d3e2436": {
          "model_module": "@jupyter-widgets/controls",
          "model_name": "ProgressStyleModel",
          "model_module_version": "1.5.0",
          "state": {
            "_model_module": "@jupyter-widgets/controls",
            "_model_module_version": "1.5.0",
            "_model_name": "ProgressStyleModel",
            "_view_count": null,
            "_view_module": "@jupyter-widgets/base",
            "_view_module_version": "1.2.0",
            "_view_name": "StyleView",
            "bar_color": null,
            "description_width": ""
          }
        },
        "12eef787986147d791bf2130babc9fec": {
          "model_module": "@jupyter-widgets/base",
          "model_name": "LayoutModel",
          "model_module_version": "1.2.0",
          "state": {
            "_model_module": "@jupyter-widgets/base",
            "_model_module_version": "1.2.0",
            "_model_name": "LayoutModel",
            "_view_count": null,
            "_view_module": "@jupyter-widgets/base",
            "_view_module_version": "1.2.0",
            "_view_name": "LayoutView",
            "align_content": null,
            "align_items": null,
            "align_self": null,
            "border": null,
            "bottom": null,
            "display": null,
            "flex": null,
            "flex_flow": null,
            "grid_area": null,
            "grid_auto_columns": null,
            "grid_auto_flow": null,
            "grid_auto_rows": null,
            "grid_column": null,
            "grid_gap": null,
            "grid_row": null,
            "grid_template_areas": null,
            "grid_template_columns": null,
            "grid_template_rows": null,
            "height": null,
            "justify_content": null,
            "justify_items": null,
            "left": null,
            "margin": null,
            "max_height": null,
            "max_width": null,
            "min_height": null,
            "min_width": null,
            "object_fit": null,
            "object_position": null,
            "order": null,
            "overflow": null,
            "overflow_x": null,
            "overflow_y": null,
            "padding": null,
            "right": null,
            "top": null,
            "visibility": null,
            "width": null
          }
        },
        "9f7a1c7d16e64a3cb0058857d07540d0": {
          "model_module": "@jupyter-widgets/controls",
          "model_name": "DescriptionStyleModel",
          "model_module_version": "1.5.0",
          "state": {
            "_model_module": "@jupyter-widgets/controls",
            "_model_module_version": "1.5.0",
            "_model_name": "DescriptionStyleModel",
            "_view_count": null,
            "_view_module": "@jupyter-widgets/base",
            "_view_module_version": "1.2.0",
            "_view_name": "StyleView",
            "description_width": ""
          }
        },
        "c415e697e33f459b913d27420c1ac6a1": {
          "model_module": "@jupyter-widgets/controls",
          "model_name": "HBoxModel",
          "model_module_version": "1.5.0",
          "state": {
            "_dom_classes": [],
            "_model_module": "@jupyter-widgets/controls",
            "_model_module_version": "1.5.0",
            "_model_name": "HBoxModel",
            "_view_count": null,
            "_view_module": "@jupyter-widgets/controls",
            "_view_module_version": "1.5.0",
            "_view_name": "HBoxView",
            "box_style": "",
            "children": [
              "IPY_MODEL_f901a5336f3c4d558c8f381a812c0aee",
              "IPY_MODEL_3031660af94949a1a6e76129c5cd270a",
              "IPY_MODEL_bf3bdb6056ea4dffa73833800c216964"
            ],
            "layout": "IPY_MODEL_92d29fd206324d2d8b18bdf7915ede98"
          }
        },
        "f901a5336f3c4d558c8f381a812c0aee": {
          "model_module": "@jupyter-widgets/controls",
          "model_name": "HTMLModel",
          "model_module_version": "1.5.0",
          "state": {
            "_dom_classes": [],
            "_model_module": "@jupyter-widgets/controls",
            "_model_module_version": "1.5.0",
            "_model_name": "HTMLModel",
            "_view_count": null,
            "_view_module": "@jupyter-widgets/controls",
            "_view_module_version": "1.5.0",
            "_view_name": "HTMLView",
            "description": "",
            "description_tooltip": null,
            "layout": "IPY_MODEL_b16e4c0126b149ff95c8616bf3a20a0e",
            "placeholder": "​",
            "style": "IPY_MODEL_131ffb491d4b45b4b8083b3a8554124b",
            "value": "100%"
          }
        },
        "3031660af94949a1a6e76129c5cd270a": {
          "model_module": "@jupyter-widgets/controls",
          "model_name": "FloatProgressModel",
          "model_module_version": "1.5.0",
          "state": {
            "_dom_classes": [],
            "_model_module": "@jupyter-widgets/controls",
            "_model_module_version": "1.5.0",
            "_model_name": "FloatProgressModel",
            "_view_count": null,
            "_view_module": "@jupyter-widgets/controls",
            "_view_module_version": "1.5.0",
            "_view_name": "ProgressView",
            "bar_style": "success",
            "description": "",
            "description_tooltip": null,
            "layout": "IPY_MODEL_377dd29d46e54269a2ea7c9b5ffb803e",
            "max": 2,
            "min": 0,
            "orientation": "horizontal",
            "style": "IPY_MODEL_19c5d4bd95134c73ae1364a436cf03b6",
            "value": 2
          }
        },
        "bf3bdb6056ea4dffa73833800c216964": {
          "model_module": "@jupyter-widgets/controls",
          "model_name": "HTMLModel",
          "model_module_version": "1.5.0",
          "state": {
            "_dom_classes": [],
            "_model_module": "@jupyter-widgets/controls",
            "_model_module_version": "1.5.0",
            "_model_name": "HTMLModel",
            "_view_count": null,
            "_view_module": "@jupyter-widgets/controls",
            "_view_module_version": "1.5.0",
            "_view_name": "HTMLView",
            "description": "",
            "description_tooltip": null,
            "layout": "IPY_MODEL_6099d4080ab946888b417b0f82955931",
            "placeholder": "​",
            "style": "IPY_MODEL_e33e4dad060048fd845b0907e9959e7b",
            "value": " 2/2 [04:04&lt;00:00, 120.98s/it]"
          }
        },
        "92d29fd206324d2d8b18bdf7915ede98": {
          "model_module": "@jupyter-widgets/base",
          "model_name": "LayoutModel",
          "model_module_version": "1.2.0",
          "state": {
            "_model_module": "@jupyter-widgets/base",
            "_model_module_version": "1.2.0",
            "_model_name": "LayoutModel",
            "_view_count": null,
            "_view_module": "@jupyter-widgets/base",
            "_view_module_version": "1.2.0",
            "_view_name": "LayoutView",
            "align_content": null,
            "align_items": null,
            "align_self": null,
            "border": null,
            "bottom": null,
            "display": null,
            "flex": null,
            "flex_flow": null,
            "grid_area": null,
            "grid_auto_columns": null,
            "grid_auto_flow": null,
            "grid_auto_rows": null,
            "grid_column": null,
            "grid_gap": null,
            "grid_row": null,
            "grid_template_areas": null,
            "grid_template_columns": null,
            "grid_template_rows": null,
            "height": null,
            "justify_content": null,
            "justify_items": null,
            "left": null,
            "margin": null,
            "max_height": null,
            "max_width": null,
            "min_height": null,
            "min_width": null,
            "object_fit": null,
            "object_position": null,
            "order": null,
            "overflow": null,
            "overflow_x": null,
            "overflow_y": null,
            "padding": null,
            "right": null,
            "top": null,
            "visibility": null,
            "width": null
          }
        },
        "b16e4c0126b149ff95c8616bf3a20a0e": {
          "model_module": "@jupyter-widgets/base",
          "model_name": "LayoutModel",
          "model_module_version": "1.2.0",
          "state": {
            "_model_module": "@jupyter-widgets/base",
            "_model_module_version": "1.2.0",
            "_model_name": "LayoutModel",
            "_view_count": null,
            "_view_module": "@jupyter-widgets/base",
            "_view_module_version": "1.2.0",
            "_view_name": "LayoutView",
            "align_content": null,
            "align_items": null,
            "align_self": null,
            "border": null,
            "bottom": null,
            "display": null,
            "flex": null,
            "flex_flow": null,
            "grid_area": null,
            "grid_auto_columns": null,
            "grid_auto_flow": null,
            "grid_auto_rows": null,
            "grid_column": null,
            "grid_gap": null,
            "grid_row": null,
            "grid_template_areas": null,
            "grid_template_columns": null,
            "grid_template_rows": null,
            "height": null,
            "justify_content": null,
            "justify_items": null,
            "left": null,
            "margin": null,
            "max_height": null,
            "max_width": null,
            "min_height": null,
            "min_width": null,
            "object_fit": null,
            "object_position": null,
            "order": null,
            "overflow": null,
            "overflow_x": null,
            "overflow_y": null,
            "padding": null,
            "right": null,
            "top": null,
            "visibility": null,
            "width": null
          }
        },
        "131ffb491d4b45b4b8083b3a8554124b": {
          "model_module": "@jupyter-widgets/controls",
          "model_name": "DescriptionStyleModel",
          "model_module_version": "1.5.0",
          "state": {
            "_model_module": "@jupyter-widgets/controls",
            "_model_module_version": "1.5.0",
            "_model_name": "DescriptionStyleModel",
            "_view_count": null,
            "_view_module": "@jupyter-widgets/base",
            "_view_module_version": "1.2.0",
            "_view_name": "StyleView",
            "description_width": ""
          }
        },
        "377dd29d46e54269a2ea7c9b5ffb803e": {
          "model_module": "@jupyter-widgets/base",
          "model_name": "LayoutModel",
          "model_module_version": "1.2.0",
          "state": {
            "_model_module": "@jupyter-widgets/base",
            "_model_module_version": "1.2.0",
            "_model_name": "LayoutModel",
            "_view_count": null,
            "_view_module": "@jupyter-widgets/base",
            "_view_module_version": "1.2.0",
            "_view_name": "LayoutView",
            "align_content": null,
            "align_items": null,
            "align_self": null,
            "border": null,
            "bottom": null,
            "display": null,
            "flex": null,
            "flex_flow": null,
            "grid_area": null,
            "grid_auto_columns": null,
            "grid_auto_flow": null,
            "grid_auto_rows": null,
            "grid_column": null,
            "grid_gap": null,
            "grid_row": null,
            "grid_template_areas": null,
            "grid_template_columns": null,
            "grid_template_rows": null,
            "height": null,
            "justify_content": null,
            "justify_items": null,
            "left": null,
            "margin": null,
            "max_height": null,
            "max_width": null,
            "min_height": null,
            "min_width": null,
            "object_fit": null,
            "object_position": null,
            "order": null,
            "overflow": null,
            "overflow_x": null,
            "overflow_y": null,
            "padding": null,
            "right": null,
            "top": null,
            "visibility": null,
            "width": null
          }
        },
        "19c5d4bd95134c73ae1364a436cf03b6": {
          "model_module": "@jupyter-widgets/controls",
          "model_name": "ProgressStyleModel",
          "model_module_version": "1.5.0",
          "state": {
            "_model_module": "@jupyter-widgets/controls",
            "_model_module_version": "1.5.0",
            "_model_name": "ProgressStyleModel",
            "_view_count": null,
            "_view_module": "@jupyter-widgets/base",
            "_view_module_version": "1.2.0",
            "_view_name": "StyleView",
            "bar_color": null,
            "description_width": ""
          }
        },
        "6099d4080ab946888b417b0f82955931": {
          "model_module": "@jupyter-widgets/base",
          "model_name": "LayoutModel",
          "model_module_version": "1.2.0",
          "state": {
            "_model_module": "@jupyter-widgets/base",
            "_model_module_version": "1.2.0",
            "_model_name": "LayoutModel",
            "_view_count": null,
            "_view_module": "@jupyter-widgets/base",
            "_view_module_version": "1.2.0",
            "_view_name": "LayoutView",
            "align_content": null,
            "align_items": null,
            "align_self": null,
            "border": null,
            "bottom": null,
            "display": null,
            "flex": null,
            "flex_flow": null,
            "grid_area": null,
            "grid_auto_columns": null,
            "grid_auto_flow": null,
            "grid_auto_rows": null,
            "grid_column": null,
            "grid_gap": null,
            "grid_row": null,
            "grid_template_areas": null,
            "grid_template_columns": null,
            "grid_template_rows": null,
            "height": null,
            "justify_content": null,
            "justify_items": null,
            "left": null,
            "margin": null,
            "max_height": null,
            "max_width": null,
            "min_height": null,
            "min_width": null,
            "object_fit": null,
            "object_position": null,
            "order": null,
            "overflow": null,
            "overflow_x": null,
            "overflow_y": null,
            "padding": null,
            "right": null,
            "top": null,
            "visibility": null,
            "width": null
          }
        },
        "e33e4dad060048fd845b0907e9959e7b": {
          "model_module": "@jupyter-widgets/controls",
          "model_name": "DescriptionStyleModel",
          "model_module_version": "1.5.0",
          "state": {
            "_model_module": "@jupyter-widgets/controls",
            "_model_module_version": "1.5.0",
            "_model_name": "DescriptionStyleModel",
            "_view_count": null,
            "_view_module": "@jupyter-widgets/base",
            "_view_module_version": "1.2.0",
            "_view_name": "StyleView",
            "description_width": ""
          }
        }
      }
    }
  },
  "cells": [
    {
      "cell_type": "markdown",
      "metadata": {
        "id": "view-in-github",
        "colab_type": "text"
      },
      "source": [
        "<a href=\"https://colab.research.google.com/github/Leamich/Ragaik/blob/feature%2FOCR_dataset_generation/character_recognition/notebooks/Roboflow_inference.ipynb\" target=\"_parent\"><img src=\"https://colab.research.google.com/assets/colab-badge.svg\" alt=\"Open In Colab\"/></a>"
      ]
    },
    {
      "cell_type": "code",
      "source": [
        "from google.colab import drive\n",
        "drive.mount(\"/content/gdrive\", force_remount=True)"
      ],
      "metadata": {
        "colab": {
          "base_uri": "https://localhost:8080/"
        },
        "id": "iAIMnpFg-rUj",
        "outputId": "f2ce6236-a880-4a4a-f967-d718dd311a30"
      },
      "execution_count": 1,
      "outputs": [
        {
          "output_type": "stream",
          "name": "stdout",
          "text": [
            "Mounted at /content/gdrive\n"
          ]
        }
      ]
    },
    {
      "cell_type": "code",
      "source": [
        "!pip install roboflow"
      ],
      "metadata": {
        "colab": {
          "base_uri": "https://localhost:8080/",
          "height": 981
        },
        "id": "tU6SIdTY_GPf",
        "outputId": "1bff91fe-e5fa-4030-bdd2-20ac196c54eb"
      },
      "execution_count": null,
      "outputs": [
        {
          "output_type": "stream",
          "name": "stdout",
          "text": [
            "Collecting roboflow\n",
            "  Downloading roboflow-1.1.66-py3-none-any.whl.metadata (9.7 kB)\n",
            "Requirement already satisfied: certifi in /usr/local/lib/python3.11/dist-packages (from roboflow) (2025.4.26)\n",
            "Collecting idna==3.7 (from roboflow)\n",
            "  Downloading idna-3.7-py3-none-any.whl.metadata (9.9 kB)\n",
            "Requirement already satisfied: cycler in /usr/local/lib/python3.11/dist-packages (from roboflow) (0.12.1)\n",
            "Requirement already satisfied: kiwisolver>=1.3.1 in /usr/local/lib/python3.11/dist-packages (from roboflow) (1.4.8)\n",
            "Requirement already satisfied: matplotlib in /usr/local/lib/python3.11/dist-packages (from roboflow) (3.10.0)\n",
            "Requirement already satisfied: numpy>=1.18.5 in /usr/local/lib/python3.11/dist-packages (from roboflow) (2.0.2)\n",
            "Collecting opencv-python-headless==4.10.0.84 (from roboflow)\n",
            "  Downloading opencv_python_headless-4.10.0.84-cp37-abi3-manylinux_2_17_x86_64.manylinux2014_x86_64.whl.metadata (20 kB)\n",
            "Requirement already satisfied: Pillow>=7.1.2 in /usr/local/lib/python3.11/dist-packages (from roboflow) (11.2.1)\n",
            "Collecting pillow-heif>=0.18.0 (from roboflow)\n",
            "  Downloading pillow_heif-0.22.0-cp311-cp311-manylinux_2_17_x86_64.manylinux2014_x86_64.whl.metadata (9.6 kB)\n",
            "Requirement already satisfied: python-dateutil in /usr/local/lib/python3.11/dist-packages (from roboflow) (2.9.0.post0)\n",
            "Collecting python-dotenv (from roboflow)\n",
            "  Downloading python_dotenv-1.1.0-py3-none-any.whl.metadata (24 kB)\n",
            "Requirement already satisfied: requests in /usr/local/lib/python3.11/dist-packages (from roboflow) (2.32.3)\n",
            "Requirement already satisfied: six in /usr/local/lib/python3.11/dist-packages (from roboflow) (1.17.0)\n",
            "Requirement already satisfied: urllib3>=1.26.6 in /usr/local/lib/python3.11/dist-packages (from roboflow) (2.4.0)\n",
            "Requirement already satisfied: tqdm>=4.41.0 in /usr/local/lib/python3.11/dist-packages (from roboflow) (4.67.1)\n",
            "Requirement already satisfied: PyYAML>=5.3.1 in /usr/local/lib/python3.11/dist-packages (from roboflow) (6.0.2)\n",
            "Requirement already satisfied: requests-toolbelt in /usr/local/lib/python3.11/dist-packages (from roboflow) (1.0.0)\n",
            "Collecting filetype (from roboflow)\n",
            "  Downloading filetype-1.2.0-py2.py3-none-any.whl.metadata (6.5 kB)\n",
            "Requirement already satisfied: contourpy>=1.0.1 in /usr/local/lib/python3.11/dist-packages (from matplotlib->roboflow) (1.3.2)\n",
            "Requirement already satisfied: fonttools>=4.22.0 in /usr/local/lib/python3.11/dist-packages (from matplotlib->roboflow) (4.58.1)\n",
            "Requirement already satisfied: packaging>=20.0 in /usr/local/lib/python3.11/dist-packages (from matplotlib->roboflow) (24.2)\n",
            "Requirement already satisfied: pyparsing>=2.3.1 in /usr/local/lib/python3.11/dist-packages (from matplotlib->roboflow) (3.2.3)\n",
            "Requirement already satisfied: charset-normalizer<4,>=2 in /usr/local/lib/python3.11/dist-packages (from requests->roboflow) (3.4.2)\n",
            "Downloading roboflow-1.1.66-py3-none-any.whl (86 kB)\n",
            "\u001b[2K   \u001b[90m━━━━━━━━━━━━━━━━━━━━━━━━━━━━━━━━━━━━━━━━\u001b[0m \u001b[32m86.7/86.7 kB\u001b[0m \u001b[31m4.2 MB/s\u001b[0m eta \u001b[36m0:00:00\u001b[0m\n",
            "\u001b[?25hDownloading idna-3.7-py3-none-any.whl (66 kB)\n",
            "\u001b[2K   \u001b[90m━━━━━━━━━━━━━━━━━━━━━━━━━━━━━━━━━━━━━━━━\u001b[0m \u001b[32m66.8/66.8 kB\u001b[0m \u001b[31m4.8 MB/s\u001b[0m eta \u001b[36m0:00:00\u001b[0m\n",
            "\u001b[?25hDownloading opencv_python_headless-4.10.0.84-cp37-abi3-manylinux_2_17_x86_64.manylinux2014_x86_64.whl (49.9 MB)\n",
            "\u001b[2K   \u001b[90m━━━━━━━━━━━━━━━━━━━━━━━━━━━━━━━━━━━━━━━━\u001b[0m \u001b[32m49.9/49.9 MB\u001b[0m \u001b[31m13.4 MB/s\u001b[0m eta \u001b[36m0:00:00\u001b[0m\n",
            "\u001b[?25hDownloading pillow_heif-0.22.0-cp311-cp311-manylinux_2_17_x86_64.manylinux2014_x86_64.whl (7.8 MB)\n",
            "\u001b[2K   \u001b[90m━━━━━━━━━━━━━━━━━━━━━━━━━━━━━━━━━━━━━━━━\u001b[0m \u001b[32m7.8/7.8 MB\u001b[0m \u001b[31m104.9 MB/s\u001b[0m eta \u001b[36m0:00:00\u001b[0m\n",
            "\u001b[?25hDownloading filetype-1.2.0-py2.py3-none-any.whl (19 kB)\n",
            "Downloading python_dotenv-1.1.0-py3-none-any.whl (20 kB)\n",
            "Installing collected packages: filetype, python-dotenv, pillow-heif, opencv-python-headless, idna, roboflow\n",
            "  Attempting uninstall: opencv-python-headless\n",
            "    Found existing installation: opencv-python-headless 4.11.0.86\n",
            "    Uninstalling opencv-python-headless-4.11.0.86:\n",
            "      Successfully uninstalled opencv-python-headless-4.11.0.86\n",
            "  Attempting uninstall: idna\n",
            "    Found existing installation: idna 3.10\n",
            "    Uninstalling idna-3.10:\n",
            "      Successfully uninstalled idna-3.10\n",
            "Successfully installed filetype-1.2.0 idna-3.7 opencv-python-headless-4.10.0.84 pillow-heif-0.22.0 python-dotenv-1.1.0 roboflow-1.1.66\n"
          ]
        },
        {
          "output_type": "display_data",
          "data": {
            "application/vnd.colab-display-data+json": {
              "pip_warning": {
                "packages": [
                  "cv2",
                  "idna"
                ]
              },
              "id": "363cce88c64149d184fd190bd196c771"
            }
          },
          "metadata": {}
        }
      ]
    },
    {
      "cell_type": "code",
      "execution_count": 2,
      "metadata": {
        "colab": {
          "base_uri": "https://localhost:8080/"
        },
        "id": "L2vQxqxQ-jws",
        "outputId": "3c248210-c136-4a72-8a8b-8bc6b60eb722"
      },
      "outputs": [
        {
          "output_type": "stream",
          "name": "stdout",
          "text": [
            "Ultralytics 8.3.159 🚀 Python-3.11.13 torch-2.6.0+cu124 CPU (Intel Xeon 2.20GHz)\n",
            "Setup complete ✅ (2 CPUs, 12.7 GB RAM, 41.5/107.7 GB disk)\n"
          ]
        }
      ],
      "source": [
        "%pip install ultralytics\n",
        "import ultralytics\n",
        "ultralytics.checks()"
      ]
    },
    {
      "cell_type": "code",
      "source": [
        "!unzip /content/gdrive/MyDrive/ragaik/dump01_AIK.zip -d /content/AIK_data"
      ],
      "metadata": {
        "colab": {
          "base_uri": "https://localhost:8080/"
        },
        "id": "iVjA791X-0eo",
        "outputId": "901bd8be-799c-4213-f8b3-14e36b3f2937"
      },
      "execution_count": 3,
      "outputs": [
        {
          "output_type": "stream",
          "name": "stdout",
          "text": [
            "Archive:  /content/gdrive/MyDrive/ragaik/dump01_AIK.zip\n",
            "   creating: /content/AIK_data/dump01_AIK/\n",
            "  inflating: /content/AIK_data/dump01_AIK/MatAn-Apr03-01.png  \n",
            "  inflating: /content/AIK_data/dump01_AIK/MatAn-Apr03-02.png  \n",
            "  inflating: /content/AIK_data/dump01_AIK/MatAn-Apr03-03.png  \n",
            "  inflating: /content/AIK_data/dump01_AIK/MatAn-Apr03-04.png  \n",
            "  inflating: /content/AIK_data/dump01_AIK/MatAn-Apr03-05.png  \n",
            "  inflating: /content/AIK_data/dump01_AIK/MatAn-Apr03-06.png  \n",
            "  inflating: /content/AIK_data/dump01_AIK/MatAn-Apr03-07.png  \n",
            "  inflating: /content/AIK_data/dump01_AIK/MatAn-Apr03-08.png  \n",
            "  inflating: /content/AIK_data/dump01_AIK/MatAn-Apr03-09.png  \n",
            "  inflating: /content/AIK_data/dump01_AIK/MatAn-Apr03-10.png  \n",
            "  inflating: /content/AIK_data/dump01_AIK/MatAn-Dec04-01.png  \n",
            "  inflating: /content/AIK_data/dump01_AIK/MatAn-Dec04-02.png  \n",
            "  inflating: /content/AIK_data/dump01_AIK/MatAn-Dec04-03.png  \n",
            "  inflating: /content/AIK_data/dump01_AIK/MatAn-Dec04-04.png  \n",
            "  inflating: /content/AIK_data/dump01_AIK/MatAn-Dec04-05.png  \n",
            "  inflating: /content/AIK_data/dump01_AIK/MatAn-Dec04-06.png  \n",
            "  inflating: /content/AIK_data/dump01_AIK/MatAn-Dec04-07.png  \n",
            "  inflating: /content/AIK_data/dump01_AIK/MatAn-Dec04-08.png  \n",
            "  inflating: /content/AIK_data/dump01_AIK/MatAn-Dec04-09.png  \n",
            "  inflating: /content/AIK_data/dump01_AIK/MatAn-Dec04-10.png  \n",
            "  inflating: /content/AIK_data/dump01_AIK/MatAn-Dec04-11.png  \n",
            "  inflating: /content/AIK_data/dump01_AIK/MatAn-Dec04-12.png  \n",
            "  inflating: /content/AIK_data/dump01_AIK/MatAn-Dec11-01.png  \n",
            "  inflating: /content/AIK_data/dump01_AIK/MatAn-Dec11-02.png  \n",
            "  inflating: /content/AIK_data/dump01_AIK/MatAn-Dec11-03.png  \n",
            "  inflating: /content/AIK_data/dump01_AIK/MatAn-Dec11-04.png  \n",
            "  inflating: /content/AIK_data/dump01_AIK/MatAn-Dec11-05.png  \n",
            "  inflating: /content/AIK_data/dump01_AIK/MatAn-Dec11-06.png  \n",
            "  inflating: /content/AIK_data/dump01_AIK/MatAn-Dec11-07.png  \n",
            "  inflating: /content/AIK_data/dump01_AIK/MatAn-Dec11-08.png  \n",
            "  inflating: /content/AIK_data/dump01_AIK/MatAn-Dec11-09.png  \n",
            "  inflating: /content/AIK_data/dump01_AIK/MatAn-Dec11-10.png  \n",
            "  inflating: /content/AIK_data/dump01_AIK/MatAn-Dec11-11.png  \n",
            "  inflating: /content/AIK_data/dump01_AIK/MatAn-Dec11-12.png  \n",
            "  inflating: /content/AIK_data/dump01_AIK/MatAn-Dec11-13.png  \n",
            "  inflating: /content/AIK_data/dump01_AIK/MatAn-Dec11-14.png  \n",
            "  inflating: /content/AIK_data/dump01_AIK/MatAn-Dec11-15.png  \n",
            "  inflating: /content/AIK_data/dump01_AIK/MatAn-Dec11-16.png  \n",
            "  inflating: /content/AIK_data/dump01_AIK/MatAn-Dec11-17.png  \n",
            "  inflating: /content/AIK_data/dump01_AIK/MatAn-Dec27-01.png  \n",
            "  inflating: /content/AIK_data/dump01_AIK/MatAn-Dec27-02.png  \n",
            "  inflating: /content/AIK_data/dump01_AIK/MatAn-Dec27-03.png  \n",
            "  inflating: /content/AIK_data/dump01_AIK/MatAn-Dec27-04.png  \n",
            "  inflating: /content/AIK_data/dump01_AIK/MatAn-Dec27-05.png  \n",
            "  inflating: /content/AIK_data/dump01_AIK/MatAn-Dec27-06.png  \n",
            "  inflating: /content/AIK_data/dump01_AIK/MatAn-Dec27-07.png  \n",
            "  inflating: /content/AIK_data/dump01_AIK/MatAn-Dec27-08.png  \n",
            "  inflating: /content/AIK_data/dump01_AIK/MatAn-Dec27-09.png  \n",
            "  inflating: /content/AIK_data/dump01_AIK/MatAn-Dec27-10.png  \n",
            "  inflating: /content/AIK_data/dump01_AIK/MatAn-Feb04-1.png  \n",
            "  inflating: /content/AIK_data/dump01_AIK/MatAn-Feb04-2.png  \n",
            "  inflating: /content/AIK_data/dump01_AIK/MatAn-Feb04-3.png  \n",
            "  inflating: /content/AIK_data/dump01_AIK/MatAn-Feb04-4.png  \n",
            "  inflating: /content/AIK_data/dump01_AIK/MatAn-Feb04-5.png  \n",
            "  inflating: /content/AIK_data/dump01_AIK/MatAn-Feb04-6.png  \n",
            "  inflating: /content/AIK_data/dump01_AIK/MatAn-Feb04-7.png  \n",
            "  inflating: /content/AIK_data/dump01_AIK/MatAn-Feb12-01.png  \n",
            "  inflating: /content/AIK_data/dump01_AIK/MatAn-Feb12-02.png  \n",
            "  inflating: /content/AIK_data/dump01_AIK/MatAn-Feb12-03.png  \n",
            "  inflating: /content/AIK_data/dump01_AIK/MatAn-Feb12-04.png  \n",
            "  inflating: /content/AIK_data/dump01_AIK/MatAn-Feb12-05.png  \n",
            "  inflating: /content/AIK_data/dump01_AIK/MatAn-Feb12-06.png  \n",
            "  inflating: /content/AIK_data/dump01_AIK/MatAn-Feb12-07.png  \n",
            "  inflating: /content/AIK_data/dump01_AIK/MatAn-Feb12-08.png  \n",
            "  inflating: /content/AIK_data/dump01_AIK/MatAn-Feb12-09.png  \n",
            "  inflating: /content/AIK_data/dump01_AIK/MatAn-Feb12-10.png  \n",
            "  inflating: /content/AIK_data/dump01_AIK/MatAn-Feb12-11.png  \n",
            "  inflating: /content/AIK_data/dump01_AIK/MatAn-Feb12-12.png  \n",
            "  inflating: /content/AIK_data/dump01_AIK/MatAn-Feb12-13.png  \n",
            "  inflating: /content/AIK_data/dump01_AIK/MatAn-Feb19-01.png  \n",
            "  inflating: /content/AIK_data/dump01_AIK/MatAn-Feb19-02.png  \n",
            "  inflating: /content/AIK_data/dump01_AIK/MatAn-Feb19-03.png  \n",
            "  inflating: /content/AIK_data/dump01_AIK/MatAn-Feb19-04.png  \n",
            "  inflating: /content/AIK_data/dump01_AIK/MatAn-Feb19-05.png  \n",
            "  inflating: /content/AIK_data/dump01_AIK/MatAn-Feb19-06.png  \n",
            "  inflating: /content/AIK_data/dump01_AIK/MatAn-Feb19-07.png  \n",
            "  inflating: /content/AIK_data/dump01_AIK/MatAn-Feb19-08.png  \n",
            "  inflating: /content/AIK_data/dump01_AIK/MatAn-Feb19-09.png  \n",
            "  inflating: /content/AIK_data/dump01_AIK/MatAn-Feb19-10.png  \n",
            "  inflating: /content/AIK_data/dump01_AIK/MatAn-Feb19-11.png  \n",
            "  inflating: /content/AIK_data/dump01_AIK/MatAn-Feb19-12.png  \n",
            "  inflating: /content/AIK_data/dump01_AIK/MatAn-Feb19-13.png  \n",
            "  inflating: /content/AIK_data/dump01_AIK/MatAn-Feb19-14.png  \n",
            "  inflating: /content/AIK_data/dump01_AIK/MatAn-Feb26-01.png  \n",
            "  inflating: /content/AIK_data/dump01_AIK/MatAn-Feb26-02.png  \n",
            "  inflating: /content/AIK_data/dump01_AIK/MatAn-Feb26-03.png  \n",
            "  inflating: /content/AIK_data/dump01_AIK/MatAn-Feb26-04.png  \n",
            "  inflating: /content/AIK_data/dump01_AIK/MatAn-Feb26-05.png  \n",
            "  inflating: /content/AIK_data/dump01_AIK/MatAn-Feb26-06.png  \n",
            "  inflating: /content/AIK_data/dump01_AIK/MatAn-Feb26-07.png  \n",
            "  inflating: /content/AIK_data/dump01_AIK/MatAn-Feb26-08.png  \n",
            "  inflating: /content/AIK_data/dump01_AIK/MatAn-Feb26-09.png  \n",
            "  inflating: /content/AIK_data/dump01_AIK/MatAn-Feb26-10.png  \n",
            "  inflating: /content/AIK_data/dump01_AIK/MatAn-Feb26-11.png  \n",
            "  inflating: /content/AIK_data/dump01_AIK/MatAn-Feb26-12.png  \n",
            "  inflating: /content/AIK_data/dump01_AIK/MatAn-Feb26-13.png  \n",
            "  inflating: /content/AIK_data/dump01_AIK/MatAn-Feb26-14.png  \n",
            "  inflating: /content/AIK_data/dump01_AIK/MatAn-Feb26-15.png  \n",
            "  inflating: /content/AIK_data/dump01_AIK/MatAn-Jan22-01.png  \n",
            "  inflating: /content/AIK_data/dump01_AIK/MatAn-Jan22-02.png  \n"
          ]
        }
      ]
    },
    {
      "cell_type": "code",
      "source": [
        "from pathlib import Path\n",
        "data_path = Path(\"/content/AIK_data/dump01_AIK\")"
      ],
      "metadata": {
        "id": "xMAYdwgx03bK"
      },
      "execution_count": 4,
      "outputs": []
    },
    {
      "cell_type": "code",
      "source": [
        "from ultralytics import YOLO\n",
        "model = YOLO(\"/content/gdrive/MyDrive/ragaik/yolo_runs/runs/detect/train/weights/best.pt\")"
      ],
      "metadata": {
        "id": "7imuWAGn06UE"
      },
      "execution_count": 5,
      "outputs": []
    },
    {
      "cell_type": "code",
      "source": [
        "imgs = list(data_path.glob(\"*.png\"))"
      ],
      "metadata": {
        "id": "QU3eqxjT1oSl"
      },
      "execution_count": 6,
      "outputs": []
    },
    {
      "cell_type": "markdown",
      "source": [
        "split into two groups, because otherwise RAM is crashed (at CPU)"
      ],
      "metadata": {
        "id": "QJ82vQSN6OuU"
      }
    },
    {
      "cell_type": "code",
      "source": [
        "preds1 = model(imgs[:50])"
      ],
      "metadata": {
        "colab": {
          "base_uri": "https://localhost:8080/"
        },
        "id": "WFTfY4Bi0_S4",
        "outputId": "a74194e2-0df2-4151-cb53-554ecf7cf3af"
      },
      "execution_count": null,
      "outputs": [
        {
          "output_type": "stream",
          "name": "stdout",
          "text": [
            "\n",
            "0: 640x640 35 maths, 39 texts, 2297.1ms\n",
            "1: 640x640 40 maths, 39 texts, 2297.1ms\n",
            "2: 640x640 13 maths, 37 texts, 2297.1ms\n",
            "3: 640x640 38 maths, 61 texts, 2297.1ms\n",
            "4: 640x640 36 maths, 38 texts, 2297.1ms\n",
            "5: 640x640 30 maths, 15 texts, 2297.1ms\n",
            "6: 640x640 9 maths, 46 texts, 2297.1ms\n",
            "7: 640x640 23 maths, 47 texts, 2297.1ms\n",
            "8: 640x640 47 maths, 13 texts, 2297.1ms\n",
            "9: 640x640 14 maths, 34 texts, 2297.1ms\n",
            "10: 640x640 46 maths, 29 texts, 2297.1ms\n",
            "11: 640x640 20 maths, 46 texts, 2297.1ms\n",
            "12: 640x640 34 maths, 57 texts, 2297.1ms\n",
            "13: 640x640 28 maths, 62 texts, 2297.1ms\n",
            "14: 640x640 26 maths, 34 texts, 2297.1ms\n",
            "15: 640x640 9 maths, 10 texts, 2297.1ms\n",
            "16: 640x640 39 maths, 41 texts, 2297.1ms\n",
            "17: 640x640 35 maths, 25 texts, 2297.1ms\n",
            "18: 640x640 32 maths, 17 texts, 2297.1ms\n",
            "19: 640x640 31 maths, 50 texts, 2297.1ms\n",
            "20: 640x640 45 maths, 12 texts, 2297.1ms\n",
            "21: 640x640 28 maths, 38 texts, 2297.1ms\n",
            "22: 640x640 62 maths, 28 texts, 2297.1ms\n",
            "23: 640x640 26 maths, 70 texts, 2297.1ms\n",
            "24: 640x640 16 maths, 23 texts, 2297.1ms\n",
            "25: 640x640 35 maths, 39 texts, 2297.1ms\n",
            "26: 640x640 15 maths, 30 texts, 2297.1ms\n",
            "27: 640x640 38 maths, 28 texts, 2297.1ms\n",
            "28: 640x640 14 maths, 4 texts, 2297.1ms\n",
            "29: 640x640 36 maths, 27 texts, 2297.1ms\n",
            "30: 640x640 13 maths, 31 texts, 2297.1ms\n",
            "31: 640x640 27 maths, 29 texts, 2297.1ms\n",
            "32: 640x640 11 maths, 35 texts, 2297.1ms\n",
            "33: 640x640 21 maths, 46 texts, 2297.1ms\n",
            "34: 640x640 10 maths, 31 texts, 2297.1ms\n",
            "35: 640x640 11 maths, 56 texts, 2297.1ms\n",
            "36: 640x640 22 maths, 31 texts, 2297.1ms\n",
            "37: 640x640 39 maths, 65 texts, 2297.1ms\n",
            "38: 640x640 34 maths, 34 texts, 2297.1ms\n",
            "39: 640x640 40 maths, 40 texts, 2297.1ms\n",
            "40: 640x640 21 maths, 40 texts, 2297.1ms\n",
            "41: 640x640 24 maths, 58 texts, 2297.1ms\n",
            "42: 640x640 42 maths, 44 texts, 2297.1ms\n",
            "43: 640x640 50 maths, 33 texts, 2297.1ms\n",
            "44: 640x640 36 maths, 29 texts, 2297.1ms\n",
            "45: 640x640 33 maths, 47 texts, 2297.1ms\n",
            "46: 640x640 25 maths, 26 texts, 2297.1ms\n",
            "47: 640x640 44 maths, 25 texts, 2297.1ms\n",
            "48: 640x640 28 maths, 44 texts, 2297.1ms\n",
            "49: 640x640 32 maths, 25 texts, 2297.1ms\n",
            "Speed: 8.3ms preprocess, 2297.1ms inference, 2.1ms postprocess per image at shape (1, 3, 640, 640)\n"
          ]
        }
      ]
    },
    {
      "cell_type": "code",
      "source": [
        "preds2 = model(imgs[50:])"
      ],
      "metadata": {
        "colab": {
          "base_uri": "https://localhost:8080/"
        },
        "id": "ZY_EyASe1lgn",
        "outputId": "02697d2f-7849-4486-da74-cd032f5b1cc2"
      },
      "execution_count": null,
      "outputs": [
        {
          "output_type": "stream",
          "name": "stdout",
          "text": [
            "\n",
            "0: 640x640 32 maths, 62 texts, 2203.8ms\n",
            "1: 640x640 13 maths, 18 texts, 2203.8ms\n",
            "2: 640x640 30 maths, 16 texts, 2203.8ms\n",
            "3: 640x640 34 maths, 34 texts, 2203.8ms\n",
            "4: 640x640 33 maths, 25 texts, 2203.8ms\n",
            "5: 640x640 42 maths, 34 texts, 2203.8ms\n",
            "6: 640x640 27 maths, 25 texts, 2203.8ms\n",
            "7: 640x640 43 maths, 67 texts, 2203.8ms\n",
            "8: 640x640 31 maths, 45 texts, 2203.8ms\n",
            "9: 640x640 52 maths, 44 texts, 2203.8ms\n",
            "10: 640x640 34 maths, 64 texts, 2203.8ms\n",
            "11: 640x640 28 maths, 44 texts, 2203.8ms\n",
            "12: 640x640 50 maths, 42 texts, 2203.8ms\n",
            "13: 640x640 32 maths, 29 texts, 2203.8ms\n",
            "14: 640x640 15 maths, 52 texts, 2203.8ms\n",
            "15: 640x640 27 maths, 34 texts, 2203.8ms\n",
            "16: 640x640 19 maths, 69 texts, 2203.8ms\n",
            "17: 640x640 14 maths, 49 texts, 2203.8ms\n",
            "18: 640x640 18 maths, 40 texts, 2203.8ms\n",
            "19: 640x640 35 maths, 25 texts, 2203.8ms\n",
            "20: 640x640 29 maths, 14 texts, 2203.8ms\n",
            "21: 640x640 29 maths, 10 texts, 2203.8ms\n",
            "22: 640x640 25 maths, 54 texts, 2203.8ms\n",
            "23: 640x640 35 maths, 13 texts, 2203.8ms\n",
            "24: 640x640 45 maths, 44 texts, 2203.8ms\n",
            "25: 640x640 25 maths, 54 texts, 2203.8ms\n",
            "26: 640x640 29 maths, 4 texts, 2203.8ms\n",
            "27: 640x640 19 maths, 28 texts, 2203.8ms\n",
            "28: 640x640 37 maths, 52 texts, 2203.8ms\n",
            "29: 640x640 35 maths, 25 texts, 2203.8ms\n",
            "30: 640x640 29 maths, 39 texts, 2203.8ms\n",
            "31: 640x640 46 maths, 35 texts, 2203.8ms\n",
            "32: 640x640 35 maths, 49 texts, 2203.8ms\n",
            "33: 640x640 33 maths, 53 texts, 2203.8ms\n",
            "34: 640x640 19 maths, 2 texts, 2203.8ms\n",
            "35: 640x640 11 maths, 31 texts, 2203.8ms\n",
            "36: 640x640 35 maths, 67 texts, 2203.8ms\n",
            "37: 640x640 44 maths, 40 texts, 2203.8ms\n",
            "38: 640x640 31 maths, 40 texts, 2203.8ms\n",
            "39: 640x640 27 maths, 8 texts, 2203.8ms\n",
            "40: 640x640 36 maths, 56 texts, 2203.8ms\n",
            "41: 640x640 26 maths, 25 texts, 2203.8ms\n",
            "42: 640x640 21 maths, 20 texts, 2203.8ms\n",
            "43: 640x640 32 maths, 30 texts, 2203.8ms\n",
            "44: 640x640 39 maths, 42 texts, 2203.8ms\n",
            "45: 640x640 27 maths, 19 texts, 2203.8ms\n",
            "46: 640x640 26 maths, 46 texts, 2203.8ms\n",
            "47: 640x640 28 maths, 47 texts, 2203.8ms\n",
            "48: 640x640 19 maths, 68 texts, 2203.8ms\n",
            "49: 640x640 17 maths, 39 texts, 2203.8ms\n",
            "Speed: 10.0ms preprocess, 2203.8ms inference, 0.9ms postprocess per image at shape (1, 3, 640, 640)\n"
          ]
        }
      ]
    },
    {
      "cell_type": "code",
      "source": [
        "for pred, img_path in zip(preds1, imgs[:50]):\n",
        "  pred.save_txt(img_path.with_suffix(\".txt\"))\n",
        "for pred, img_path in zip(preds2, imgs[50:]):\n",
        "  pred.save_txt(img_path.with_suffix(\".txt\"))"
      ],
      "metadata": {
        "id": "vONNdlia5Ll6"
      },
      "execution_count": null,
      "outputs": []
    },
    {
      "cell_type": "code",
      "source": [
        "from google.colab import userdata"
      ],
      "metadata": {
        "id": "ipR-6feGB23h"
      },
      "execution_count": null,
      "outputs": []
    },
    {
      "cell_type": "code",
      "source": [
        "import roboflow\n",
        "\n",
        "rf = roboflow.Roboflow(api_key=userdata.get(\"ws_rf_key\"))\n",
        "\n",
        "workspace = rf.workspace(\"ragaik\")\n",
        "project = workspace.project(\"detection_dataset-x2vpt\")"
      ],
      "metadata": {
        "colab": {
          "base_uri": "https://localhost:8080/"
        },
        "id": "FuiJS53h_HvJ",
        "outputId": "0e3a98ec-e9bf-48c3-f4eb-50ed2d6941d0"
      },
      "execution_count": null,
      "outputs": [
        {
          "output_type": "stream",
          "name": "stdout",
          "text": [
            "loading Roboflow workspace...\n",
            "loading Roboflow project...\n"
          ]
        }
      ]
    },
    {
      "cell_type": "code",
      "source": [
        "from tqdm.notebook import tqdm"
      ],
      "metadata": {
        "id": "orMrnTa9DPCv"
      },
      "execution_count": null,
      "outputs": []
    },
    {
      "cell_type": "code",
      "source": [
        "for path in tqdm(imgs):\n",
        "    project.upload(\n",
        "        image_path=str(path),\n",
        "        annotation_path=str(path.with_suffix(\".txt\")),\n",
        "        split=\"test\",\n",
        "        is_prediction=True,\n",
        "        tag_names=[\"math\", \"text\"]\n",
        "    )"
      ],
      "metadata": {
        "colab": {
          "base_uri": "https://localhost:8080/",
          "height": 49,
          "referenced_widgets": [
            "48c33dd46b6a4b3fb5f64ae9e6de4594",
            "2d8a15c1fefa4a0188df866e2efc3f40",
            "f3da1d6c78b04bc2bf64d2cb274f2823",
            "c41a4ca1cfea490ea44cd5ad18a1c951",
            "35b9925776224754a717170ba7e0411b",
            "abac5bae1c0848c0a117dde26d28cc14",
            "cdd1e4abd50b4a548b431ae975e2fbc5",
            "f8fac9141b5243c198b35593d4a08011",
            "a5b6629d664e4310bedee86c9d3e2436",
            "12eef787986147d791bf2130babc9fec",
            "9f7a1c7d16e64a3cb0058857d07540d0"
          ]
        },
        "id": "4rkl6gv8_WmG",
        "outputId": "18be4342-be02-47f2-fe82-5cbd0458d39d"
      },
      "execution_count": null,
      "outputs": [
        {
          "output_type": "display_data",
          "data": {
            "text/plain": [
              "  0%|          | 0/100 [00:00<?, ?it/s]"
            ],
            "application/vnd.jupyter.widget-view+json": {
              "version_major": 2,
              "version_minor": 0,
              "model_id": "48c33dd46b6a4b3fb5f64ae9e6de4594"
            }
          },
          "metadata": {}
        }
      ]
    },
    {
      "cell_type": "markdown",
      "source": [
        "# Yolo inference"
      ],
      "metadata": {
        "id": "3VJV5pFCud4a"
      }
    },
    {
      "cell_type": "code",
      "source": [
        "!pip install supervision"
      ],
      "metadata": {
        "id": "3_QBIs9mDcvO",
        "colab": {
          "base_uri": "https://localhost:8080/"
        },
        "outputId": "441100f0-7ada-4641-cba3-2a04f9d4b301"
      },
      "execution_count": 7,
      "outputs": [
        {
          "output_type": "stream",
          "name": "stdout",
          "text": [
            "Collecting supervision\n",
            "  Downloading supervision-0.25.1-py3-none-any.whl.metadata (14 kB)\n",
            "Requirement already satisfied: contourpy>=1.0.7 in /usr/local/lib/python3.11/dist-packages (from supervision) (1.3.2)\n",
            "Requirement already satisfied: defusedxml<0.8.0,>=0.7.1 in /usr/local/lib/python3.11/dist-packages (from supervision) (0.7.1)\n",
            "Requirement already satisfied: matplotlib>=3.6.0 in /usr/local/lib/python3.11/dist-packages (from supervision) (3.10.0)\n",
            "Requirement already satisfied: numpy>=1.21.2 in /usr/local/lib/python3.11/dist-packages (from supervision) (2.0.2)\n",
            "Requirement already satisfied: opencv-python>=4.5.5.64 in /usr/local/lib/python3.11/dist-packages (from supervision) (4.11.0.86)\n",
            "Requirement already satisfied: pillow>=9.4 in /usr/local/lib/python3.11/dist-packages (from supervision) (11.2.1)\n",
            "Requirement already satisfied: pyyaml>=5.3 in /usr/local/lib/python3.11/dist-packages (from supervision) (6.0.2)\n",
            "Requirement already satisfied: requests>=2.26.0 in /usr/local/lib/python3.11/dist-packages (from supervision) (2.32.3)\n",
            "Requirement already satisfied: scipy<2.0.0,>=1.10.0 in /usr/local/lib/python3.11/dist-packages (from supervision) (1.15.3)\n",
            "Requirement already satisfied: tqdm>=4.62.3 in /usr/local/lib/python3.11/dist-packages (from supervision) (4.67.1)\n",
            "Requirement already satisfied: cycler>=0.10 in /usr/local/lib/python3.11/dist-packages (from matplotlib>=3.6.0->supervision) (0.12.1)\n",
            "Requirement already satisfied: fonttools>=4.22.0 in /usr/local/lib/python3.11/dist-packages (from matplotlib>=3.6.0->supervision) (4.58.4)\n",
            "Requirement already satisfied: kiwisolver>=1.3.1 in /usr/local/lib/python3.11/dist-packages (from matplotlib>=3.6.0->supervision) (1.4.8)\n",
            "Requirement already satisfied: packaging>=20.0 in /usr/local/lib/python3.11/dist-packages (from matplotlib>=3.6.0->supervision) (24.2)\n",
            "Requirement already satisfied: pyparsing>=2.3.1 in /usr/local/lib/python3.11/dist-packages (from matplotlib>=3.6.0->supervision) (3.2.3)\n",
            "Requirement already satisfied: python-dateutil>=2.7 in /usr/local/lib/python3.11/dist-packages (from matplotlib>=3.6.0->supervision) (2.9.0.post0)\n",
            "Requirement already satisfied: charset-normalizer<4,>=2 in /usr/local/lib/python3.11/dist-packages (from requests>=2.26.0->supervision) (3.4.2)\n",
            "Requirement already satisfied: idna<4,>=2.5 in /usr/local/lib/python3.11/dist-packages (from requests>=2.26.0->supervision) (3.10)\n",
            "Requirement already satisfied: urllib3<3,>=1.21.1 in /usr/local/lib/python3.11/dist-packages (from requests>=2.26.0->supervision) (2.4.0)\n",
            "Requirement already satisfied: certifi>=2017.4.17 in /usr/local/lib/python3.11/dist-packages (from requests>=2.26.0->supervision) (2025.6.15)\n",
            "Requirement already satisfied: six>=1.5 in /usr/local/lib/python3.11/dist-packages (from python-dateutil>=2.7->matplotlib>=3.6.0->supervision) (1.17.0)\n",
            "Downloading supervision-0.25.1-py3-none-any.whl (181 kB)\n",
            "\u001b[2K   \u001b[90m━━━━━━━━━━━━━━━━━━━━━━━━━━━━━━━━━━━━━━━━\u001b[0m \u001b[32m181.5/181.5 kB\u001b[0m \u001b[31m3.5 MB/s\u001b[0m eta \u001b[36m0:00:00\u001b[0m\n",
            "\u001b[?25hInstalling collected packages: supervision\n",
            "Successfully installed supervision-0.25.1\n"
          ]
        }
      ]
    },
    {
      "cell_type": "code",
      "source": [
        "import supervision as sv\n",
        "from tqdm.notebook import tqdm"
      ],
      "metadata": {
        "id": "bsmzzojxv8WE"
      },
      "execution_count": 10,
      "outputs": []
    },
    {
      "cell_type": "code",
      "source": [
        "BATCH_SIZE = 50\n",
        "for i in tqdm(range(0, len(imgs), BATCH_SIZE)):\n",
        "    batch_imgs = imgs[i:i + BATCH_SIZE]\n",
        "    results = model(batch_imgs, conf=0.3)\n",
        "    for result, img_path in zip(results, batch_imgs):\n",
        "        detections = sv.Detections.from_ultralytics(result).with_nmm(threshold=0.5, class_agnostic=False)\n",
        "        with open(img_path.with_suffix(\".txt\"), \"w\") as f:\n",
        "            for xyxy, confidence, class_id in zip(detections.xyxy, detections.confidence, detections.class_id):\n",
        "                x_center = (xyxy[0] + xyxy[2]) / 2 / result.orig_img.shape[1]\n",
        "                y_center = (xyxy[1] + xyxy[3]) / 2 / result.orig_img.shape[0]\n",
        "                width = (xyxy[2] - xyxy[0]) / result.orig_img.shape[1]\n",
        "                height = (xyxy[3] - xyxy[1]) / result.orig_img.shape[0]\n",
        "                f.write(f\"{class_id} {x_center:.6f} {y_center:.6f} {width:.6f} {height:.6f} {confidence:.6f}\\n\")"
      ],
      "metadata": {
        "colab": {
          "base_uri": "https://localhost:8080/",
          "height": 1000,
          "referenced_widgets": [
            "c415e697e33f459b913d27420c1ac6a1",
            "f901a5336f3c4d558c8f381a812c0aee",
            "3031660af94949a1a6e76129c5cd270a",
            "bf3bdb6056ea4dffa73833800c216964",
            "92d29fd206324d2d8b18bdf7915ede98",
            "b16e4c0126b149ff95c8616bf3a20a0e",
            "131ffb491d4b45b4b8083b3a8554124b",
            "377dd29d46e54269a2ea7c9b5ffb803e",
            "19c5d4bd95134c73ae1364a436cf03b6",
            "6099d4080ab946888b417b0f82955931",
            "e33e4dad060048fd845b0907e9959e7b"
          ]
        },
        "id": "BdoKRAP8v_Tb",
        "outputId": "bc0326c6-c787-47b6-c937-ffcef2023dc7"
      },
      "execution_count": 40,
      "outputs": [
        {
          "output_type": "display_data",
          "data": {
            "text/plain": [
              "  0%|          | 0/2 [00:00<?, ?it/s]"
            ],
            "application/vnd.jupyter.widget-view+json": {
              "version_major": 2,
              "version_minor": 0,
              "model_id": "c415e697e33f459b913d27420c1ac6a1"
            }
          },
          "metadata": {}
        },
        {
          "output_type": "stream",
          "name": "stdout",
          "text": [
            "\n",
            "0: 640x640 17 maths, 33 texts, 2496.0ms\n",
            "1: 640x640 27 maths, 55 texts, 2496.0ms\n",
            "2: 640x640 21 maths, 22 texts, 2496.0ms\n",
            "3: 640x640 25 maths, 9 texts, 2496.0ms\n",
            "4: 640x640 24 maths, 28 texts, 2496.0ms\n",
            "5: 640x640 18 maths, 41 texts, 2496.0ms\n",
            "6: 640x640 17 maths, 25 texts, 2496.0ms\n",
            "7: 640x640 27 maths, 4 texts, 2496.0ms\n",
            "8: 640x640 17 maths, 2 texts, 2496.0ms\n",
            "9: 640x640 22 maths, 7 texts, 2496.0ms\n",
            "10: 640x640 20 maths, 42 texts, 2496.0ms\n",
            "11: 640x640 22 maths, 41 texts, 2496.0ms\n",
            "12: 640x640 19 maths, 56 texts, 2496.0ms\n",
            "13: 640x640 38 maths, 20 texts, 2496.0ms\n",
            "14: 640x640 10 maths, 45 texts, 2496.0ms\n",
            "15: 640x640 21 maths, 16 texts, 2496.0ms\n",
            "16: 640x640 23 maths, 53 texts, 2496.0ms\n",
            "17: 640x640 33 maths, 31 texts, 2496.0ms\n",
            "18: 640x640 33 maths, 34 texts, 2496.0ms\n",
            "19: 640x640 18 maths, 26 texts, 2496.0ms\n",
            "20: 640x640 38 maths, 52 texts, 2496.0ms\n",
            "21: 640x640 21 maths, 30 texts, 2496.0ms\n",
            "22: 640x640 30 maths, 12 texts, 2496.0ms\n",
            "23: 640x640 29 maths, 30 texts, 2496.0ms\n",
            "24: 640x640 31 maths, 30 texts, 2496.0ms\n",
            "25: 640x640 30 maths, 31 texts, 2496.0ms\n",
            "26: 640x640 27 maths, 11 texts, 2496.0ms\n",
            "27: 640x640 21 maths, 8 texts, 2496.0ms\n",
            "28: 640x640 22 maths, 51 texts, 2496.0ms\n",
            "29: 640x640 23 maths, 61 texts, 2496.0ms\n",
            "30: 640x640 8 maths, 23 texts, 2496.0ms\n",
            "31: 640x640 25 maths, 21 texts, 2496.0ms\n",
            "32: 640x640 41 maths, 32 texts, 2496.0ms\n",
            "33: 640x640 28 maths, 47 texts, 2496.0ms\n",
            "34: 640x640 31 maths, 51 texts, 2496.0ms\n",
            "35: 640x640 36 maths, 40 texts, 2496.0ms\n",
            "36: 640x640 16 maths, 18 texts, 2496.0ms\n",
            "37: 640x640 13 maths, 61 texts, 2496.0ms\n",
            "38: 640x640 21 maths, 22 texts, 2496.0ms\n",
            "39: 640x640 11 maths, 17 texts, 2496.0ms\n",
            "40: 640x640 27 maths, 54 texts, 2496.0ms\n",
            "41: 640x640 21 maths, 34 texts, 2496.0ms\n",
            "42: 640x640 21 maths, 38 texts, 2496.0ms\n",
            "43: 640x640 26 maths, 27 texts, 2496.0ms\n",
            "44: 640x640 31 maths, 25 texts, 2496.0ms\n",
            "45: 640x640 9 maths, 27 texts, 2496.0ms\n",
            "46: 640x640 35 maths, 27 texts, 2496.0ms\n",
            "47: 640x640 9 maths, 22 texts, 2496.0ms\n",
            "48: 640x640 13 maths, 19 texts, 2496.0ms\n",
            "49: 640x640 32 maths, 23 texts, 2496.0ms\n",
            "Speed: 17.0ms preprocess, 2496.0ms inference, 0.8ms postprocess per image at shape (1, 3, 640, 640)\n",
            "\n",
            "0: 640x640 35 maths, 31 texts, 2272.5ms\n",
            "1: 640x640 41 maths, 11 texts, 2272.5ms\n",
            "2: 640x640 18 maths, 39 texts, 2272.5ms\n",
            "3: 640x640 30 maths, 25 texts, 2272.5ms\n",
            "4: 640x640 35 maths, 24 texts, 2272.5ms\n",
            "5: 640x640 24 maths, 36 texts, 2272.5ms\n",
            "6: 640x640 25 maths, 21 texts, 2272.5ms\n",
            "7: 640x640 35 maths, 38 texts, 2272.5ms\n",
            "8: 640x640 48 maths, 18 texts, 2272.5ms\n",
            "9: 640x640 21 maths, 49 texts, 2272.5ms\n",
            "10: 640x640 30 maths, 20 texts, 2272.5ms\n",
            "11: 640x640 31 maths, 43 texts, 2272.5ms\n",
            "12: 640x640 11 maths, 31 texts, 2272.5ms\n",
            "13: 640x640 30 maths, 40 texts, 2272.5ms\n",
            "14: 640x640 21 maths, 39 texts, 2272.5ms\n",
            "15: 640x640 14 maths, 40 texts, 2272.5ms\n",
            "16: 640x640 11 maths, 43 texts, 2272.5ms\n",
            "17: 640x640 24 maths, 42 texts, 2272.5ms\n",
            "18: 640x640 22 maths, 21 texts, 2272.5ms\n",
            "19: 640x640 22 maths, 25 texts, 2272.5ms\n",
            "20: 640x640 15 maths, 25 texts, 2272.5ms\n",
            "21: 640x640 27 maths, 41 texts, 2272.5ms\n",
            "22: 640x640 28 maths, 50 texts, 2272.5ms\n",
            "23: 640x640 24 maths, 41 texts, 2272.5ms\n",
            "24: 640x640 11 maths, 27 texts, 2272.5ms\n",
            "25: 640x640 27 maths, 19 texts, 2272.5ms\n",
            "26: 640x640 25 maths, 24 texts, 2272.5ms\n",
            "27: 640x640 10 maths, 25 texts, 2272.5ms\n",
            "28: 640x640 12 maths, 4 texts, 2272.5ms\n",
            "29: 640x640 42 maths, 35 texts, 2272.5ms\n",
            "30: 640x640 29 maths, 45 texts, 2272.5ms\n",
            "31: 640x640 29 maths, 26 texts, 2272.5ms\n",
            "32: 640x640 37 maths, 9 texts, 2272.5ms\n",
            "33: 640x640 25 maths, 14 texts, 2272.5ms\n",
            "34: 640x640 28 maths, 48 texts, 2272.5ms\n",
            "35: 640x640 12 maths, 35 texts, 2272.5ms\n",
            "36: 640x640 8 maths, 49 texts, 2272.5ms\n",
            "37: 640x640 23 maths, 41 texts, 2272.5ms\n",
            "38: 640x640 29 maths, 24 texts, 2272.5ms\n",
            "39: 640x640 25 maths, 12 texts, 2272.5ms\n",
            "40: 640x640 25 maths, 30 texts, 2272.5ms\n",
            "41: 640x640 16 maths, 36 texts, 2272.5ms\n",
            "42: 640x640 9 maths, 9 texts, 2272.5ms\n",
            "43: 640x640 36 maths, 29 texts, 2272.5ms\n",
            "44: 640x640 46 maths, 25 texts, 2272.5ms\n",
            "45: 640x640 28 maths, 29 texts, 2272.5ms\n",
            "46: 640x640 28 maths, 48 texts, 2272.5ms\n",
            "47: 640x640 4 maths, 34 texts, 2272.5ms\n",
            "48: 640x640 5 maths, 43 texts, 2272.5ms\n",
            "49: 640x640 34 maths, 36 texts, 2272.5ms\n",
            "Speed: 7.5ms preprocess, 2272.5ms inference, 0.9ms postprocess per image at shape (1, 3, 640, 640)\n"
          ]
        }
      ]
    },
    {
      "cell_type": "code",
      "source": [
        "# GENERATED CODE\n",
        "# prompt: plot detection from sv.Detections, add also prediction by model, sv.Detections.from_ultralytics(result).with_nmm(threshold=0.5), JUST ONE IMAGE, code should just use imgs, and also model(img, conf=0.3), add comprasion before after nmm\n",
        "\n",
        "import matplotlib.pyplot as plt\n",
        "import cv2\n",
        "\n",
        "# Select the first image for plotting\n",
        "img_path_to_plot = imgs[0]\n",
        "img_to_plot = cv2.imread(str(img_path_to_plot))\n",
        "img_to_plot = cv2.cvtColor(img_to_plot, cv2.COLOR_BGR2RGB) # Convert to RGB\n",
        "\n",
        "# Perform inference on the selected image\n",
        "result = model(img_to_plot, conf=0.3)[0] # Get the first result for the single image\n",
        "\n",
        "# Detections without NMS\n",
        "detections_before_nms = sv.Detections.from_ultralytics(result)\n",
        "\n",
        "# Detections with NMS\n",
        "detections_after_nms = sv.Detections.from_ultralytics(result).with_nmm(threshold=0.5, class_agnostic=True)\n",
        "\n",
        "# Create annotators\n",
        "box_annotator = sv.BoxAnnotator()\n",
        "label_annotator = sv.LabelAnnotator()\n",
        "\n",
        "# Annotate image before NMS\n",
        "annotated_image_before_nms = box_annotator.annotate(\n",
        "    scene=img_to_plot.copy(),\n",
        "    detections=detections_before_nms\n",
        ")\n",
        "labels_before_nms = [\n",
        "    f\"{result.names[class_id]} {confidence:.2f}\"\n",
        "    for xyxy, confidence, class_id\n",
        "    in zip(detections_before_nms.xyxy, detections_before_nms.confidence, detections_before_nms.class_id)\n",
        "]\n",
        "annotated_image_before_nms = label_annotator.annotate(\n",
        "    scene=annotated_image_before_nms,\n",
        "    detections=detections_before_nms,\n",
        "    labels=labels_before_nms\n",
        ")\n",
        "\n",
        "\n",
        "# Annotate image after NMS\n",
        "annotated_image_after_nms = box_annotator.annotate(\n",
        "    scene=img_to_plot.copy(),\n",
        "    detections=detections_after_nms\n",
        ")\n",
        "labels_after_nms = [\n",
        "    f\"{result.names[class_id]} {confidence:.2f}\"\n",
        "    for xyxy, confidence, class_id\n",
        "    in zip(detections_after_nms.xyxy, detections_after_nms.confidence, detections_after_nms.class_id)\n",
        "]\n",
        "annotated_image_after_nms = label_annotator.annotate(\n",
        "    scene=annotated_image_after_nms,\n",
        "    detections=detections_after_nms,\n",
        "    labels=labels_after_nms\n",
        ")\n",
        "\n",
        "\n",
        "# Plotting\n",
        "fig, axes = plt.subplots(1, 2, figsize=(15, 15))\n",
        "\n",
        "axes[0].imshow(annotated_image_before_nms)\n",
        "axes[0].set_title('Before NMM')\n",
        "axes[0].axis('off')\n",
        "\n",
        "axes[1].imshow(annotated_image_after_nms)\n",
        "axes[1].set_title('After NMM (Threshold=0.5)')\n",
        "axes[1].axis('off')\n",
        "\n",
        "plt.tight_layout()\n",
        "plt.show()"
      ],
      "metadata": {
        "colab": {
          "base_uri": "https://localhost:8080/",
          "height": 509
        },
        "id": "LpJy3kV3C7Ra",
        "outputId": "af3af230-d661-48e6-eb1d-09d11e9209c8"
      },
      "execution_count": 38,
      "outputs": [
        {
          "output_type": "stream",
          "name": "stdout",
          "text": [
            "\n",
            "0: 352x640 12 maths, 36 texts, 958.9ms\n",
            "Speed: 5.1ms preprocess, 958.9ms inference, 1.2ms postprocess per image at shape (1, 3, 352, 640)\n"
          ]
        },
        {
          "output_type": "display_data",
          "data": {
            "text/plain": [
              "<Figure size 1500x1500 with 2 Axes>"
            ],
            "image/png": "[encoded data removed]"
          },
          "metadata": {}
        }
      ]
    },
    {
      "cell_type": "code",
      "source": [
        "%cd /content/AIK_data/\n",
        "!zip -r -3 data.zip dump01_AIK"
      ],
      "metadata": {
        "colab": {
          "base_uri": "https://localhost:8080/"
        },
        "id": "U0AdQOdjKh6h",
        "outputId": "be7aceda-0a2f-4a2b-b6a9-4c186c11e38d"
      },
      "execution_count": 41,
      "outputs": [
        {
          "output_type": "stream",
          "name": "stdout",
          "text": [
            "/content/AIK_data\n",
            "  adding: dump01_AIK/ (stored 0%)\n",
            "  adding: dump01_AIK/MatAn-Dec11-03.txt (deflated 56%)\n",
            "  adding: dump01_AIK/MatAn-Dec27-09.txt (deflated 56%)\n",
            "  adding: dump01_AIK/MatAn-Feb12-03.png (deflated 1%)\n",
            "  adding: dump01_AIK/MatAn-Feb19-06.png (deflated 1%)\n",
            "  adding: dump01_AIK/MatAn-Dec11-04.png (deflated 1%)\n",
            "  adding: dump01_AIK/MatAn-Feb12-11.txt (deflated 56%)\n",
            "  adding: dump01_AIK/MatAn-Apr03-02.png (deflated 1%)\n",
            "  adding: dump01_AIK/MatAn-Feb19-14.png (deflated 1%)\n",
            "  adding: dump01_AIK/MatAn-Feb26-02.txt (deflated 56%)\n",
            "  adding: dump01_AIK/MatAn-Dec27-01.txt (deflated 55%)\n",
            "  adding: dump01_AIK/MatAn-Feb26-09.png (deflated 1%)\n",
            "  adding: dump01_AIK/MatAn-Feb19-04.txt (deflated 57%)\n",
            "  adding: dump01_AIK/MatAn-Dec04-10.txt (deflated 56%)\n",
            "  adding: dump01_AIK/MatAn-Dec04-11.png (deflated 1%)\n",
            "  adding: dump01_AIK/MatAn-Feb04-6.png (deflated 1%)\n",
            "  adding: dump01_AIK/MatAn-Feb19-05.txt (deflated 57%)\n",
            "  adding: dump01_AIK/MatAn-Feb19-07.txt (deflated 56%)\n",
            "  adding: dump01_AIK/MatAn-Feb04-1.png (deflated 2%)\n",
            "  adding: dump01_AIK/MatAn-Feb19-14.txt (deflated 57%)\n",
            "  adding: dump01_AIK/MatAn-Feb19-13.txt (deflated 56%)\n",
            "  adding: dump01_AIK/MatAn-Dec11-10.png (deflated 1%)\n",
            "  adding: dump01_AIK/MatAn-Dec11-11.txt (deflated 56%)\n",
            "  adding: dump01_AIK/MatAn-Feb12-06.txt (deflated 56%)\n",
            "  adding: dump01_AIK/MatAn-Feb12-02.txt (deflated 56%)\n",
            "  adding: dump01_AIK/MatAn-Feb19-13.png (deflated 1%)\n",
            "  adding: dump01_AIK/MatAn-Feb19-02.txt (deflated 56%)\n",
            "  adding: dump01_AIK/MatAn-Feb26-01.png (deflated 1%)\n",
            "  adding: dump01_AIK/MatAn-Feb26-14.png (deflated 1%)\n",
            "  adding: dump01_AIK/MatAn-Dec04-07.txt (deflated 57%)\n",
            "  adding: dump01_AIK/MatAn-Feb19-09.txt (deflated 56%)\n",
            "  adding: dump01_AIK/MatAn-Dec27-10.txt (deflated 57%)\n",
            "  adding: dump01_AIK/MatAn-Dec27-08.txt (deflated 56%)\n",
            "  adding: dump01_AIK/MatAn-Apr03-03.png (deflated 0%)\n",
            "  adding: dump01_AIK/MatAn-Apr03-07.txt (deflated 56%)\n",
            "  adding: dump01_AIK/MatAn-Feb19-06.txt (deflated 56%)\n",
            "  adding: dump01_AIK/MatAn-Dec11-17.txt (deflated 56%)\n",
            "  adding: dump01_AIK/MatAn-Dec04-02.png (deflated 1%)\n",
            "  adding: dump01_AIK/MatAn-Feb04-3.txt (deflated 56%)\n",
            "  adding: dump01_AIK/MatAn-Dec11-05.txt (deflated 56%)\n",
            "  adding: dump01_AIK/MatAn-Feb12-01.txt (deflated 56%)\n",
            "  adding: dump01_AIK/MatAn-Feb04-2.txt (deflated 56%)\n",
            "  adding: dump01_AIK/MatAn-Dec04-01.txt (deflated 56%)\n",
            "  adding: dump01_AIK/MatAn-Feb04-4.png (deflated 1%)\n",
            "  adding: dump01_AIK/MatAn-Feb12-12.png (deflated 1%)\n",
            "  adding: dump01_AIK/MatAn-Feb26-05.png (deflated 1%)\n",
            "  adding: dump01_AIK/MatAn-Dec11-10.txt (deflated 56%)\n",
            "  adding: dump01_AIK/MatAn-Dec04-03.txt (deflated 56%)\n",
            "  adding: dump01_AIK/MatAn-Feb12-01.png (deflated 0%)\n",
            "  adding: dump01_AIK/MatAn-Feb26-10.txt (deflated 56%)\n",
            "  adding: dump01_AIK/MatAn-Apr03-06.png (deflated 1%)\n",
            "  adding: dump01_AIK/MatAn-Dec04-11.txt (deflated 57%)\n",
            "  adding: dump01_AIK/MatAn-Feb19-08.png (deflated 1%)\n",
            "  adding: dump01_AIK/MatAn-Feb12-05.png (deflated 1%)\n",
            "  adding: dump01_AIK/MatAn-Apr03-04.png (deflated 0%)\n",
            "  adding: dump01_AIK/MatAn-Dec11-04.txt (deflated 57%)\n",
            "  adding: dump01_AIK/MatAn-Dec04-07.png (deflated 1%)\n",
            "  adding: dump01_AIK/MatAn-Feb12-04.png (deflated 0%)\n",
            "  adding: dump01_AIK/MatAn-Feb12-06.png (deflated 0%)\n",
            "  adding: dump01_AIK/MatAn-Dec04-12.txt (deflated 56%)\n",
            "  adding: dump01_AIK/MatAn-Jan22-02.txt (deflated 56%)\n",
            "  adding: dump01_AIK/MatAn-Dec04-02.txt (deflated 56%)\n",
            "  adding: dump01_AIK/MatAn-Apr03-01.png (deflated 1%)\n",
            "  adding: dump01_AIK/MatAn-Dec11-07.txt (deflated 56%)\n",
            "  adding: dump01_AIK/MatAn-Feb26-06.txt (deflated 56%)\n",
            "  adding: dump01_AIK/MatAn-Dec11-14.png (deflated 2%)\n",
            "  adding: dump01_AIK/MatAn-Dec11-12.png (deflated 1%)\n",
            "  adding: dump01_AIK/MatAn-Feb26-04.txt (deflated 56%)\n",
            "  adding: dump01_AIK/MatAn-Dec04-05.txt (deflated 57%)\n",
            "  adding: dump01_AIK/MatAn-Dec04-04.png (deflated 1%)\n",
            "  adding: dump01_AIK/MatAn-Feb19-07.png (deflated 4%)\n",
            "  adding: dump01_AIK/MatAn-Feb26-11.txt (deflated 57%)\n",
            "  adding: dump01_AIK/MatAn-Apr03-10.txt (deflated 56%)\n",
            "  adding: dump01_AIK/MatAn-Dec11-08.png (deflated 0%)\n",
            "  adding: dump01_AIK/MatAn-Apr03-02.txt (deflated 57%)\n",
            "  adding: dump01_AIK/MatAn-Dec27-09.png (deflated 1%)\n",
            "  adding: dump01_AIK/MatAn-Dec04-06.txt (deflated 57%)\n",
            "  adding: dump01_AIK/MatAn-Feb19-10.txt (deflated 56%)\n",
            "  adding: dump01_AIK/MatAn-Apr03-08.png (deflated 1%)\n",
            "  adding: dump01_AIK/MatAn-Feb12-10.txt (deflated 56%)\n",
            "  adding: dump01_AIK/MatAn-Feb26-08.txt (deflated 57%)\n",
            "  adding: dump01_AIK/MatAn-Dec04-12.png (deflated 1%)\n",
            "  adding: dump01_AIK/MatAn-Feb19-12.txt (deflated 57%)\n",
            "  adding: dump01_AIK/MatAn-Apr03-10.png (deflated 1%)\n",
            "  adding: dump01_AIK/MatAn-Feb26-01.txt (deflated 56%)\n",
            "  adding: dump01_AIK/MatAn-Dec27-03.txt (deflated 56%)\n",
            "  adding: dump01_AIK/MatAn-Feb12-03.txt (deflated 56%)\n",
            "  adding: dump01_AIK/MatAn-Feb26-12.txt (deflated 57%)\n",
            "  adding: dump01_AIK/MatAn-Dec11-16.png (deflated 2%)\n",
            "  adding: dump01_AIK/MatAn-Feb19-01.txt (deflated 56%)\n",
            "  adding: dump01_AIK/MatAn-Feb04-4.txt (deflated 56%)\n",
            "  adding: dump01_AIK/MatAn-Feb26-13.png (deflated 1%)\n",
            "  adding: dump01_AIK/MatAn-Dec11-03.png (deflated 2%)\n",
            "  adding: dump01_AIK/MatAn-Dec11-17.png (deflated 2%)\n",
            "  adding: dump01_AIK/MatAn-Feb26-06.png (deflated 1%)\n",
            "  adding: dump01_AIK/MatAn-Feb12-08.txt (deflated 57%)\n",
            "  adding: dump01_AIK/MatAn-Feb26-04.png (deflated 1%)\n",
            "  adding: dump01_AIK/MatAn-Feb12-04.txt (deflated 56%)\n",
            "  adding: dump01_AIK/MatAn-Dec04-10.png (deflated 0%)\n",
            "  adding: dump01_AIK/MatAn-Dec11-01.png (deflated 1%)\n",
            "  adding: dump01_AIK/MatAn-Feb26-13.txt (deflated 56%)\n",
            "  adding: dump01_AIK/MatAn-Dec27-04.txt (deflated 56%)\n",
            "  adding: dump01_AIK/MatAn-Dec27-05.txt (deflated 56%)\n",
            "  adding: dump01_AIK/MatAn-Apr03-06.txt (deflated 56%)\n",
            "  adding: dump01_AIK/MatAn-Feb19-09.png (deflated 1%)\n",
            "  adding: dump01_AIK/MatAn-Apr03-03.txt (deflated 57%)\n",
            "  adding: dump01_AIK/MatAn-Feb12-13.txt (deflated 57%)\n",
            "  adding: dump01_AIK/MatAn-Feb12-08.png (deflated 2%)\n",
            "  adding: dump01_AIK/MatAn-Jan22-01.png (deflated 0%)\n",
            "  adding: dump01_AIK/MatAn-Dec04-01.png (deflated 3%)\n",
            "  adding: dump01_AIK/MatAn-Dec11-09.png (deflated 2%)\n",
            "  adding: dump01_AIK/MatAn-Dec11-15.txt (deflated 56%)\n",
            "  adding: dump01_AIK/MatAn-Feb19-12.png (deflated 1%)\n",
            "  adding: dump01_AIK/MatAn-Feb12-07.png (deflated 0%)\n",
            "  adding: dump01_AIK/MatAn-Jan22-01.txt (deflated 56%)\n",
            "  adding: dump01_AIK/MatAn-Dec27-02.png (deflated 1%)\n",
            "  adding: dump01_AIK/MatAn-Feb12-10.png (deflated 1%)\n",
            "  adding: dump01_AIK/MatAn-Dec27-08.png (deflated 1%)\n",
            "  adding: dump01_AIK/MatAn-Feb26-09.txt (deflated 56%)\n",
            "  adding: dump01_AIK/MatAn-Dec27-05.png (deflated 1%)\n",
            "  adding: dump01_AIK/MatAn-Dec11-08.txt (deflated 56%)\n",
            "  adding: dump01_AIK/MatAn-Feb19-11.png (deflated 1%)\n",
            "  adding: dump01_AIK/MatAn-Dec27-06.png (deflated 1%)\n",
            "  adding: dump01_AIK/MatAn-Feb26-14.txt (deflated 56%)\n",
            "  adding: dump01_AIK/MatAn-Dec27-10.png (deflated 1%)\n",
            "  adding: dump01_AIK/MatAn-Feb12-05.txt (deflated 56%)\n",
            "  adding: dump01_AIK/MatAn-Dec27-04.png (deflated 0%)\n",
            "  adding: dump01_AIK/MatAn-Dec11-11.png (deflated 1%)\n",
            "  adding: dump01_AIK/MatAn-Feb12-11.png (deflated 1%)\n",
            "  adding: dump01_AIK/MatAn-Feb19-04.png (deflated 1%)\n",
            "  adding: dump01_AIK/MatAn-Feb26-07.txt (deflated 56%)\n",
            "  adding: dump01_AIK/MatAn-Feb26-15.png (deflated 2%)\n",
            "  adding: dump01_AIK/MatAn-Dec04-06.png (deflated 1%)\n",
            "  adding: dump01_AIK/MatAn-Feb26-03.png (deflated 1%)\n",
            "  adding: dump01_AIK/MatAn-Dec04-09.png (deflated 0%)\n",
            "  adding: dump01_AIK/MatAn-Feb26-07.png (deflated 3%)\n",
            "  adding: dump01_AIK/MatAn-Dec04-09.txt (deflated 56%)\n",
            "  adding: dump01_AIK/MatAn-Dec27-07.txt (deflated 56%)\n",
            "  adding: dump01_AIK/MatAn-Feb19-01.png (deflated 1%)\n",
            "  adding: dump01_AIK/MatAn-Dec11-16.txt (deflated 56%)\n",
            "  adding: dump01_AIK/MatAn-Feb04-3.png (deflated 1%)\n",
            "  adding: dump01_AIK/MatAn-Apr03-04.txt (deflated 56%)\n",
            "  adding: dump01_AIK/MatAn-Dec04-04.txt (deflated 57%)\n",
            "  adding: dump01_AIK/MatAn-Dec11-13.txt (deflated 56%)\n",
            "  adding: dump01_AIK/MatAn-Dec11-06.txt (deflated 56%)\n",
            "  adding: dump01_AIK/MatAn-Apr03-08.txt (deflated 56%)\n",
            "  adding: dump01_AIK/MatAn-Dec11-07.png (deflated 1%)\n",
            "  adding: dump01_AIK/MatAn-Dec11-09.txt (deflated 57%)\n",
            "  adding: dump01_AIK/MatAn-Feb12-09.png (deflated 1%)\n",
            "  adding: dump01_AIK/MatAn-Feb26-03.txt (deflated 56%)\n",
            "  adding: dump01_AIK/MatAn-Feb12-12.txt (deflated 56%)\n",
            "  adding: dump01_AIK/MatAn-Feb19-02.png (deflated 2%)\n",
            "  adding: dump01_AIK/MatAn-Feb12-09.txt (deflated 57%)\n",
            "  adding: dump01_AIK/MatAn-Dec04-08.txt (deflated 56%)\n",
            "  adding: dump01_AIK/MatAn-Feb26-05.txt (deflated 56%)\n",
            "  adding: dump01_AIK/MatAn-Dec27-03.png (deflated 1%)\n",
            "  adding: dump01_AIK/MatAn-Feb26-02.png (deflated 1%)\n",
            "  adding: dump01_AIK/MatAn-Dec11-05.png (deflated 2%)\n",
            "  adding: dump01_AIK/MatAn-Feb12-13.png (deflated 1%)\n",
            "  adding: dump01_AIK/MatAn-Feb19-08.txt (deflated 56%)\n",
            "  adding: dump01_AIK/MatAn-Dec11-06.png (deflated 1%)\n",
            "  adding: dump01_AIK/MatAn-Apr03-07.png (deflated 3%)\n",
            "  adding: dump01_AIK/MatAn-Dec27-01.png (deflated 9%)\n",
            "  adding: dump01_AIK/MatAn-Dec27-07.png (deflated 1%)\n",
            "  adding: dump01_AIK/MatAn-Feb26-10.png (deflated 0%)\n",
            "  adding: dump01_AIK/MatAn-Feb26-15.txt (deflated 56%)\n",
            "  adding: dump01_AIK/MatAn-Feb04-5.png (deflated 0%)\n",
            "  adding: dump01_AIK/MatAn-Feb19-11.txt (deflated 56%)\n",
            "  adding: dump01_AIK/MatAn-Dec27-06.txt (deflated 57%)\n",
            "  adding: dump01_AIK/MatAn-Dec11-13.png (deflated 0%)\n",
            "  adding: dump01_AIK/MatAn-Feb19-03.txt (deflated 56%)\n",
            "  adding: dump01_AIK/MatAn-Feb12-07.txt (deflated 56%)\n",
            "  adding: dump01_AIK/MatAn-Feb04-2.png (deflated 0%)\n",
            "  adding: dump01_AIK/MatAn-Feb04-6.txt (deflated 56%)\n",
            "  adding: dump01_AIK/MatAn-Dec04-05.png (deflated 1%)\n",
            "  adding: dump01_AIK/MatAn-Feb26-12.png (deflated 1%)\n",
            "  adding: dump01_AIK/MatAn-Dec04-08.png (deflated 1%)\n",
            "  adding: dump01_AIK/MatAn-Dec04-03.png (deflated 2%)\n",
            "  adding: dump01_AIK/MatAn-Feb04-7.txt (deflated 56%)\n",
            "  adding: dump01_AIK/MatAn-Feb04-7.png (deflated 0%)\n",
            "  adding: dump01_AIK/MatAn-Apr03-01.txt (deflated 56%)\n",
            "  adding: dump01_AIK/MatAn-Apr03-05.png (deflated 1%)\n",
            "  adding: dump01_AIK/MatAn-Apr03-09.png (deflated 0%)\n",
            "  adding: dump01_AIK/MatAn-Feb04-1.txt (deflated 55%)\n",
            "  adding: dump01_AIK/MatAn-Feb19-05.png (deflated 3%)\n",
            "  adding: dump01_AIK/MatAn-Dec27-02.txt (deflated 56%)\n",
            "  adding: dump01_AIK/MatAn-Feb12-02.png (deflated 4%)\n",
            "  adding: dump01_AIK/MatAn-Dec11-15.png (deflated 1%)\n",
            "  adding: dump01_AIK/MatAn-Jan22-02.png (deflated 1%)\n",
            "  adding: dump01_AIK/MatAn-Feb19-10.png (deflated 1%)\n",
            "  adding: dump01_AIK/MatAn-Feb19-03.png (deflated 1%)\n",
            "  adding: dump01_AIK/MatAn-Dec11-01.txt (deflated 56%)\n",
            "  adding: dump01_AIK/MatAn-Dec11-12.txt (deflated 56%)\n",
            "  adding: dump01_AIK/MatAn-Feb26-11.png (deflated 3%)\n",
            "  adding: dump01_AIK/MatAn-Dec11-14.txt (deflated 57%)\n",
            "  adding: dump01_AIK/MatAn-Feb04-5.txt (deflated 56%)\n",
            "  adding: dump01_AIK/MatAn-Feb26-08.png (deflated 1%)\n",
            "  adding: dump01_AIK/MatAn-Dec11-02.png (deflated 0%)\n",
            "  adding: dump01_AIK/MatAn-Apr03-05.txt (deflated 56%)\n",
            "  adding: dump01_AIK/MatAn-Dec11-02.txt (deflated 56%)\n",
            "  adding: dump01_AIK/MatAn-Apr03-09.txt (deflated 56%)\n"
          ]
        }
      ]
    },
    {
      "cell_type": "code",
      "source": [
        "!du -sh data.zip"
      ],
      "metadata": {
        "colab": {
          "base_uri": "https://localhost:8080/"
        },
        "id": "BEYhauiwK3zu",
        "outputId": "6c238915-0785-4989-b3e2-c8aec542dcc5"
      },
      "execution_count": 42,
      "outputs": [
        {
          "output_type": "stream",
          "name": "stdout",
          "text": [
            "12M\tdata.zip\n"
          ]
        }
      ]
    },
    {
      "cell_type": "code",
      "source": [
        "drive_path = Path(\"/content/gdrive/MyDrive/ragaik\")"
      ],
      "metadata": {
        "id": "uOSv1_P_LA7w"
      },
      "execution_count": 48,
      "outputs": []
    },
    {
      "cell_type": "code",
      "source": [
        "!cp data.zip {drive_path / \"dump01_AIK_data.zip\"}"
      ],
      "metadata": {
        "id": "lOqoNiANK7cs"
      },
      "execution_count": 51,
      "outputs": []
    },
    {
      "cell_type": "code",
      "source": [],
      "metadata": {
        "id": "SGyVCZkYK_aw"
      },
      "execution_count": null,
      "outputs": []
    }
  ]
}