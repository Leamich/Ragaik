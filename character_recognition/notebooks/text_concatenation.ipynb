{
  "nbformat": 4,
  "nbformat_minor": 0,
  "metadata": {
    "colab": {
      "provenance": [],
      "authorship_tag": "ABX9TyP63/5Fqj6F1n192cQBaIpD",
      "include_colab_link": true
    },
    "kernelspec": {
      "name": "python3",
      "display_name": "Python 3"
    },
    "language_info": {
      "name": "python"
    }
  },
  "cells": [
    {
      "cell_type": "markdown",
      "metadata": {
        "id": "view-in-github",
        "colab_type": "text"
      },
      "source": [
        "<a href=\"https://colab.research.google.com/github/Leamich/Ragaik/blob/feature%2FOCR_dataset_generation/character_recognition/notebooks/text_concatenation.ipynb\" target=\"_parent\"><img src=\"https://colab.research.google.com/assets/colab-badge.svg\" alt=\"Open In Colab\"/></a>"
      ]
    },
    {
      "cell_type": "code",
      "execution_count": null,
      "metadata": {
        "id": "S0htKPfaWnW2"
      },
      "outputs": [],
      "source": [
        "# seek for df as (image_id, X_upper_left, Y_upper_left, X_down_right, Y_down_right, label, text)"
      ]
    },
    {
      "cell_type": "code",
      "source": [
        "df[\"height\"] = df[\"Y_down_right\"] - df[\"Y_upper_left\"]"
      ],
      "metadata": {
        "id": "9o7gOSfNYtxc"
      },
      "execution_count": null,
      "outputs": []
    },
    {
      "cell_type": "code",
      "source": [
        "df[\"line_height\"] = df.groupby(\"image_id\")[\"height\"].transform(\"mean\")"
      ],
      "metadata": {
        "id": "3H1E2ix8TGng"
      },
      "execution_count": null,
      "outputs": []
    },
    {
      "cell_type": "code",
      "source": [
        "df[\"line_number\"] = ((df[\"Y_upper_left\"] + df[\"Y_down_right\"]) / 2).astype(\"int64\") // df[\"line_height\"].astype(\"int64\")"
      ],
      "metadata": {
        "id": "AVIPR4KKY_ST"
      },
      "execution_count": null,
      "outputs": []
    },
    {
      "cell_type": "code",
      "source": [
        "df = df.sort_values(\"X_upper_left\")"
      ],
      "metadata": {
        "id": "ZVs5EQ9VSc3v"
      },
      "execution_count": null,
      "outputs": []
    },
    {
      "cell_type": "code",
      "source": [
        "df_by_line = df.groupby([\"image_id\", \"line_number\"])[\"text\"].agg(lambda s: \" \".join(s))"
      ],
      "metadata": {
        "id": "YdoXpKv3VYhZ"
      },
      "execution_count": null,
      "outputs": []
    },
    {
      "cell_type": "code",
      "source": [
        "df_by_image = df.groupby(\"image_id\")[\"text\"].agg(lambda s: \" \".join(s))"
      ],
      "metadata": {
        "id": "wsqj1KZ5Wfka"
      },
      "execution_count": null,
      "outputs": []
    }
  ]
}